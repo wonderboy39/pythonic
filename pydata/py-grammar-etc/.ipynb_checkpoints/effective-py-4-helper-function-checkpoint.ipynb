{
 "cells": [
  {
   "cell_type": "markdown",
   "metadata": {},
   "source": [
    "# Better Way 4. 복잡한 표현식 대신 헬퍼함수를 작성하자\n",
    "복잡한 표현식이 있을 경우 해당 표현식을 작은 조각으로 분할하고 로직을 헬퍼함수로 옮기는 방안을 고려해야 한다. 무조건 짧은 코드로 만들기보다는 가독성을 선택하는 편이 낫다. 이해하기 어려운 복잡판 표현식에는 파이썬의 함축적인 문법을 사용하면 안된다"
   ]
  },
  {
   "cell_type": "markdown",
   "metadata": {},
   "source": [
    "## ex) URL에서 쿼리문자열을 디코드하는 경우\n",
    "쿼리 문자열을 URL에서 디코드해야 하는 경우를 예로 들어보자. 쿼리문자열 파라미터에 따라 값이 여러개 있을 수도 있고 값이 한개만 있을수도 있으며, 파라미터는 존재하나 값이 비어있을수도 있다. 또는 파라미터가 아예 빠져있을 수도 있다."
   ]
  },
  {
   "cell_type": "code",
   "execution_count": 3,
   "metadata": {},
   "outputs": [
    {
     "name": "stdout",
     "output_type": "stream",
     "text": [
      "{'blue': ['0'], 'green': [''], 'red': ['5']}\n"
     ]
    }
   ],
   "source": [
    "# python 2.x\n",
    "from urlparse import parse_qs\n",
    "# from urllib.parse import parse_qs - python 3.x\n",
    "my_values = parse_qs('red=5&blue=0&green=', keep_blank_values=True)\n",
    "print(repr(my_values))"
   ]
  },
  {
   "cell_type": "code",
   "execution_count": 15,
   "metadata": {},
   "outputs": [
    {
     "name": "stdout",
     "output_type": "stream",
     "text": [
      "type(my_values) == <type 'dict'>\n"
     ]
    }
   ],
   "source": [
    "print('type(my_values) == ' + str(type(my_values)))"
   ]
  },
  {
   "cell_type": "markdown",
   "metadata": {},
   "source": [
    "이 경우 반환된 딕셔너리 결과값을 받는 my_values의 get() 메서드를 사용하면 각 파라미터마다의 값을 반환받을 수 있다."
   ]
  },
  {
   "cell_type": "code",
   "execution_count": 4,
   "metadata": {},
   "outputs": [
    {
     "name": "stdout",
     "output_type": "stream",
     "text": [
      "('Red:     ', ['5'])\n",
      "('Green:   ', [''])\n",
      "('Opacity: ', None)\n"
     ]
    }
   ],
   "source": [
    "print('Red:     ',my_values.get('red'))\n",
    "print('Green:   ',my_values.get('green'))\n",
    "print('Opacity: ',my_values.get('opacity'))"
   ]
  },
  {
   "cell_type": "markdown",
   "metadata": {},
   "source": [
    "my_values.get('red')등을 통해서 얻은 값을 변수 각각에 저장하려고 한다. 이때 고려하고자 하는 사항들은 아래와 같다.  \n",
    " - 파라미터가 없거나 비어있으면 기본값으로 0을 할당하게 하고싶다.\n",
    " - 이 로직에 if문이나 헬퍼함수를 쓸 필요가 없다고 느낀다면 bool표현식을 사용할 것이다.\n",
    " - 또는 삼항연산자를 사용하고자 한다.\n",
    " - 너무 복잡해질것 같다면 헬퍼함수를 도입해본다."
   ]
  },
  {
   "cell_type": "markdown",
   "metadata": {},
   "source": [
    "### bool 표현식의 사용\n",
    "bool표현식을 적용할 때 사용하는 트릭은 **비어있는 문자열, 비어있는 리스트, 0이 모두 암시적으로 False로 평가되는 점**이다. 따라서 아래 표현식들의 결과는 첫 번째 서브 표현식이 False일 때 or연산자 뒤에 오는 서브표현식을 평가한 값이 된다."
   ]
  },
  {
   "cell_type": "markdown",
   "metadata": {},
   "source": [
    "### 참고\n",
    "**parse_qs를 통해 반환받는 값은 dictionary다. 이 딕셔너리는 키는 문자열이고, 키에 대응되는  값은 리스트이다.**  \n",
    "즉 my_values는 딕셔너리이고, my_values의 'red'라는 키에 대응되는 value는 리스트이다."
   ]
  },
  {
   "cell_type": "markdown",
   "metadata": {},
   "source": [
    "#### red의 값, type, 리스트내부의 값 확인 "
   ]
  },
  {
   "cell_type": "code",
   "execution_count": 10,
   "metadata": {},
   "outputs": [
    {
     "data": {
      "text/plain": [
       "['5']"
      ]
     },
     "execution_count": 10,
     "metadata": {},
     "output_type": "execute_result"
    }
   ],
   "source": [
    "red = my_values.get('red',[''])\n",
    "red"
   ]
  },
  {
   "cell_type": "code",
   "execution_count": 12,
   "metadata": {},
   "outputs": [
    {
     "data": {
      "text/plain": [
       "list"
      ]
     },
     "execution_count": 12,
     "metadata": {},
     "output_type": "execute_result"
    }
   ],
   "source": [
    "type(red)"
   ]
  },
  {
   "cell_type": "code",
   "execution_count": 13,
   "metadata": {},
   "outputs": [
    {
     "name": "stdout",
     "output_type": "stream",
     "text": [
      "red[0] == 5\n"
     ]
    }
   ],
   "source": [
    "print('red[0] == ' + red[0])"
   ]
  },
  {
   "cell_type": "markdown",
   "metadata": {},
   "source": [
    "#### green의 값, type, 리스트 내부의 값 확인"
   ]
  },
  {
   "cell_type": "code",
   "execution_count": 11,
   "metadata": {},
   "outputs": [
    {
     "data": {
      "text/plain": [
       "['']"
      ]
     },
     "execution_count": 11,
     "metadata": {},
     "output_type": "execute_result"
    }
   ],
   "source": [
    "green = my_values.get('green',[''])\n",
    "green"
   ]
  },
  {
   "cell_type": "code",
   "execution_count": 16,
   "metadata": {},
   "outputs": [
    {
     "data": {
      "text/plain": [
       "list"
      ]
     },
     "execution_count": 16,
     "metadata": {},
     "output_type": "execute_result"
    }
   ],
   "source": [
    "type(green)"
   ]
  },
  {
   "cell_type": "code",
   "execution_count": 17,
   "metadata": {},
   "outputs": [
    {
     "name": "stdout",
     "output_type": "stream",
     "text": [
      "green[0] == \n"
     ]
    }
   ],
   "source": [
    "print('green[0] == ' + green[0])"
   ]
  },
  {
   "cell_type": "markdown",
   "metadata": {},
   "source": [
    "## bool 표현식을 사용한 경우"
   ]
  },
  {
   "cell_type": "code",
   "execution_count": 5,
   "metadata": {},
   "outputs": [
    {
     "data": {
      "text/plain": [
       "'5'"
      ]
     },
     "execution_count": 5,
     "metadata": {},
     "output_type": "execute_result"
    }
   ],
   "source": [
    "red = my_values.get('red',[''])[0] or 0\n",
    "green = my_values.get('green',[''])[0] or 0\n",
    "opacity = my_values.get('opacity',[''])[0] or 0\n",
    "red"
   ]
  }
 ],
 "metadata": {
  "kernelspec": {
   "display_name": "Python 2",
   "language": "python",
   "name": "python2"
  },
  "language_info": {
   "codemirror_mode": {
    "name": "ipython",
    "version": 2
   },
   "file_extension": ".py",
   "mimetype": "text/x-python",
   "name": "python",
   "nbconvert_exporter": "python",
   "pygments_lexer": "ipython2",
   "version": "2.7.13"
  }
 },
 "nbformat": 4,
 "nbformat_minor": 2
}
