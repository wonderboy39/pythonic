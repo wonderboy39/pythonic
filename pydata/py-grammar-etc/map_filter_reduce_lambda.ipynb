{
 "cells": [
  {
   "cell_type": "markdown",
   "metadata": {},
   "source": [
    "# map(), filter(), reduce(), lambda\n",
    "https://ddanggle.gitbooks.io/interpy-kr/content/ch4-map-and-filter.html"
   ]
  },
  {
   "cell_type": "markdown",
   "metadata": {},
   "source": [
    "# 1. map\n",
    "입력받은 리스트의 모든 항목들에 대해 입력받은 함수를 적용한다.\n",
    "map 함수사용법  \n",
    "```python\n",
    "map ( 적용할 함수의 이름, 리스트 )\n",
    "```"
   ]
  },
  {
   "cell_type": "markdown",
   "metadata": {},
   "source": [
    "예1) 리스트의 모든 요소에 \\*100을 한 결과를 리턴하는 구문  \n",
    "**map을 사용하지 않을 경우의 for문 (map()을 적용하고자 하는 for문)**"
   ]
  },
  {
   "cell_type": "code",
   "execution_count": 6,
   "metadata": {},
   "outputs": [
    {
     "data": {
      "text/plain": [
       "[500, 600, 700, 800, 900]"
      ]
     },
     "execution_count": 6,
     "metadata": {},
     "output_type": "execute_result"
    }
   ],
   "source": [
    "l_input = [5,6,7,8,9]\n",
    "product_100 = []\n",
    "for i in l_input:\n",
    "    product_100.append(i*100)\n",
    "product_100"
   ]
  },
  {
   "cell_type": "markdown",
   "metadata": {},
   "source": [
    "**위의 for loop에 map을 적용해보기**"
   ]
  },
  {
   "cell_type": "code",
   "execution_count": 7,
   "metadata": {},
   "outputs": [
    {
     "data": {
      "text/plain": [
       "[500, 600, 700, 800, 900]"
      ]
     },
     "execution_count": 7,
     "metadata": {},
     "output_type": "execute_result"
    }
   ],
   "source": [
    "l_input = [5,6,7,8,9]\n",
    "product_100_2 = map(lambda x : x*100, l_input)\n",
    "product_100_2"
   ]
  },
  {
   "cell_type": "markdown",
   "metadata": {},
   "source": [
    "예2) 함수들의 리스트를 input으로 사용하는 구문"
   ]
  },
  {
   "cell_type": "code",
   "execution_count": 13,
   "metadata": {
    "collapsed": true
   },
   "outputs": [],
   "source": [
    "def multiply(x):\n",
    "    return (x*x)\n",
    "\n",
    "def add(x):\n",
    "    return (x+x)\n",
    "\n",
    "def sub(x):\n",
    "    return (x-x)\n",
    "\n",
    "l_func = [multiply, add, sub]"
   ]
  },
  {
   "cell_type": "code",
   "execution_count": 17,
   "metadata": {},
   "outputs": [
    {
     "name": "stdout",
     "output_type": "stream",
     "text": [
      "[0, 0, 0]\n",
      "[1, 2, 0]\n",
      "[4, 4, 0]\n",
      "[9, 6, 0]\n",
      "[16, 8, 0]\n"
     ]
    }
   ],
   "source": [
    "for i in range(5):\n",
    "    l_value = map(lambda x : x(i), l_func)\n",
    "    print(l_value)"
   ]
  },
  {
   "cell_type": "markdown",
   "metadata": {},
   "source": [
    "# 2. Filter \n",
    "입력받은 리스트의 모든 요소들을 인자로 전달받은 함수에 값을 넣었을 때 True를 반환하는 요소들만으로 구성되는 리스트를 생성한다. filter() 함수는 아래와 같이 생겼다.  \n",
    "```python\n",
    "filter( input_function , input_list )\n",
    "```"
   ]
  },
  {
   "cell_type": "markdown",
   "metadata": {},
   "source": [
    "**예1) 입력받은 리스트에서 음수인 것들만 찾아내기**"
   ]
  },
  {
   "cell_type": "code",
   "execution_count": 18,
   "metadata": {},
   "outputs": [
    {
     "data": {
      "text/plain": [
       "[-5, -4, -3, -2, -1, 0, 1, 2, 3, 4]"
      ]
     },
     "execution_count": 18,
     "metadata": {},
     "output_type": "execute_result"
    }
   ],
   "source": [
    "l_number = range(-5, 5)\n",
    "l_number"
   ]
  },
  {
   "cell_type": "code",
   "execution_count": 22,
   "metadata": {},
   "outputs": [
    {
     "data": {
      "text/plain": [
       "[-5, -4, -3, -2, -1]"
      ]
     },
     "execution_count": 22,
     "metadata": {},
     "output_type": "execute_result"
    }
   ],
   "source": [
    "l_less_than_zero = list(filter(lambda x : x<0, l_number))\n",
    "l_less_than_zero"
   ]
  },
  {
   "cell_type": "markdown",
   "metadata": {},
   "source": [
    "# 3. Reduce\n",
    "리스트를 입력으로 하는 계산을 수행하고자 할때 유용한 함수다. reduce를 사용하기 위해서는 functools모듈의 reduce() 함수를 import해야 한다."
   ]
  },
  {
   "cell_type": "code",
   "execution_count": 25,
   "metadata": {},
   "outputs": [
    {
     "data": {
      "text/plain": [
       "24"
      ]
     },
     "execution_count": 25,
     "metadata": {},
     "output_type": "execute_result"
    }
   ],
   "source": [
    "from functools import reduce\n",
    "product = reduce((lambda x, y: x*y), [1,2,3,4])\n",
    "product"
   ]
  },
  {
   "cell_type": "code",
   "execution_count": 26,
   "metadata": {},
   "outputs": [
    {
     "data": {
      "text/plain": [
       "int"
      ]
     },
     "execution_count": 26,
     "metadata": {},
     "output_type": "execute_result"
    }
   ],
   "source": [
    "type(product)"
   ]
  }
 ],
 "metadata": {
  "kernelspec": {
   "display_name": "Python 2",
   "language": "python",
   "name": "python2"
  },
  "language_info": {
   "codemirror_mode": {
    "name": "ipython",
    "version": 2
   },
   "file_extension": ".py",
   "mimetype": "text/x-python",
   "name": "python",
   "nbconvert_exporter": "python",
   "pygments_lexer": "ipython2",
   "version": "2.7.13"
  }
 },
 "nbformat": 4,
 "nbformat_minor": 2
}
