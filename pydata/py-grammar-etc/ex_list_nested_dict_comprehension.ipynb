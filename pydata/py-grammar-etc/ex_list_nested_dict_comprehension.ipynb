{
 "cells": [
  {
   "cell_type": "code",
   "execution_count": 5,
   "metadata": {},
   "outputs": [],
   "source": [
    "from datetime import datetime, timedelta, date"
   ]
  },
  {
   "cell_type": "code",
   "execution_count": null,
   "metadata": {
    "collapsed": true
   },
   "outputs": [],
   "source": []
  },
  {
   "cell_type": "code",
   "execution_count": 4,
   "metadata": {},
   "outputs": [
    {
     "ename": "NameError",
     "evalue": "name 'date' is not defined",
     "output_type": "error",
     "traceback": [
      "\u001b[0;31m---------------------------------------------------------------------------\u001b[0m",
      "\u001b[0;31mNameError\u001b[0m                                 Traceback (most recent call last)",
      "\u001b[0;32m<ipython-input-4-121e298eb407>\u001b[0m in \u001b[0;36m<module>\u001b[0;34m()\u001b[0m\n\u001b[1;32m      4\u001b[0m         \u001b[0;34m'name'\u001b[0m\u001b[0;34m:\u001b[0m \u001b[0;34mu'㈜솔라엔오가닉 태양광 발전소'\u001b[0m\u001b[0;34m,\u001b[0m\u001b[0;34m\u001b[0m\u001b[0m\n\u001b[1;32m      5\u001b[0m         \u001b[0;34m'capacity'\u001b[0m\u001b[0;34m:\u001b[0m \u001b[0;36m99.2\u001b[0m\u001b[0;34m,\u001b[0m\u001b[0;34m\u001b[0m\u001b[0m\n\u001b[0;32m----> 6\u001b[0;31m         \u001b[0;34m'start_date'\u001b[0m\u001b[0;34m:\u001b[0m \u001b[0mdate\u001b[0m\u001b[0;34m(\u001b[0m\u001b[0;36m2016\u001b[0m\u001b[0;34m,\u001b[0m \u001b[0;36m5\u001b[0m\u001b[0;34m,\u001b[0m \u001b[0;36m17\u001b[0m\u001b[0;34m)\u001b[0m\u001b[0;34m,\u001b[0m\u001b[0;34m\u001b[0m\u001b[0m\n\u001b[0m\u001b[1;32m      7\u001b[0m         \u001b[0;34m'monitor_type'\u001b[0m\u001b[0;34m:\u001b[0m \u001b[0;34m'sma'\u001b[0m\u001b[0;34m,\u001b[0m\u001b[0;34m\u001b[0m\u001b[0m\n\u001b[1;32m      8\u001b[0m         \u001b[0;34m'monitor_pid'\u001b[0m\u001b[0;34m:\u001b[0m \u001b[0;34m'b85f8b6a-530c-4b10-835d-257b9ab00731'\u001b[0m\u001b[0;34m,\u001b[0m\u001b[0;34m\u001b[0m\u001b[0m\n",
      "\u001b[0;31mNameError\u001b[0m: name 'date' is not defined"
     ]
    }
   ],
   "source": [
    "plants = [\n",
    "    {\n",
    "        'address': u'경상남도 합천군 율곡면 제내2길 26-10',\n",
    "        'name': u'㈜솔라엔오가닉 태양광 발전소',\n",
    "        'capacity': 99.2,\n",
    "        'start_date': date(2016, 5, 17),\n",
    "        'monitor_type': 'sma',\n",
    "        'monitor_pid': 'b85f8b6a-530c-4b10-835d-257b9ab00731',\n",
    "        'monitor_id': u'yong.chung33@gmail.com',\n",
    "        'monitor_password': u'donaduqa'\n",
    "    },\n",
    "    {\n",
    "        'address': u'경북 예천군 풍양면 우망리 산13-13',\n",
    "        'name': u'대동산 2호 태양광 발전소',\n",
    "        'capacity': 98.8,\n",
    "        'start_date': date(2016, 3, 9),\n",
    "        'monitor_type': 'sma',\n",
    "        'monitor_pid': '7ca6bab2-a57a-4093-bc4b-4bf8ac4a51fb',\n",
    "        'monitor_id': u'jayis@idnstory.com',\n",
    "        'monitor_password': u'romenoli'\n",
    "    },\n",
    "    {\n",
    "        'address': u'경북 예천군 풍양면 우망리 520-5',\n",
    "        'name': u'알운산 태양광 발전소',\n",
    "        'capacity': 98.8,\n",
    "        'start_date': date(2014, 11, 18),\n",
    "        'monitor_type': 'sma',\n",
    "        'monitor_pid': '91ca046d-ea64-42e1-b712-edb2aa0a3e76',\n",
    "        'monitor_id': u'idn@idnstory.com',\n",
    "        'monitor_password': u'cedowaga'\n",
    "    },\n",
    "    {\n",
    "        'address': u'경상남도 거창군 마리면 율리 359번지',\n",
    "        'name': u'느리와차니 태양광 발전소',\n",
    "        'capacity': 97.2,\n",
    "        'start_date': date(2015, 10, 31),\n",
    "        'monitor_type': 'sma',\n",
    "        'monitor_pid': '485101f1-eb85-4203-a91a-9d11deb379c4',\n",
    "        'monitor_id': u'yulgu@naver.com',\n",
    "        'monitor_password': u'1234567!'\n",
    "    },\n",
    "    {\n",
    "        'address': u'경상북도 영주시 문수면 보문로 1596-1',\n",
    "        'name': u'정인 태양광 발전소',\n",
    "        'capacity': 97.2,\n",
    "        'start_date': date(2014, 10, 22),\n",
    "        'monitor_type': 'sma',\n",
    "        'monitor_pid': '19cfb490-acfa-48ef-9151-ab8f91e43168',\n",
    "        'monitor_id': u'jayis@idnstory.com',\n",
    "        'monitor_password': u'romenoli'\n",
    "    },\n",
    "    {\n",
    "        'address': u'경상북도 영주시 문수면 보문로 1596-1',\n",
    "        'name': u'힘찬 태양광 발전소',\n",
    "        'capacity': 97.2,  # SMA 모니터링 홈페이지에는 102.6으로 나와 있으나 문서 확인 후 97.2가 확실\n",
    "        'start_date': date(2014, 10, 22),\n",
    "        'monitor_type': 'sma',\n",
    "        'monitor_pid': 'bd51410e-23da-4551-b9de-5d9bb951b4e8',\n",
    "        'monitor_id': u'jayis@idnstory.com',\n",
    "        'monitor_password': u'romenoli'\n",
    "    },\n",
    "]"
   ]
  },
  {
   "cell_type": "code",
   "execution_count": null,
   "metadata": {
    "collapsed": true
   },
   "outputs": [],
   "source": [
    "def print_dict(d):\n",
    "    # for dict_plants in plants:\n",
    "    #     print(dict_plants['address'])    \n",
    "    print(d['address'])\n",
    "\n",
    "def print_customers():\n",
    "    [print_dict(dict) for dict in plants]\n"
   ]
  }
 ],
 "metadata": {
  "kernelspec": {
   "display_name": "Python 2",
   "language": "python",
   "name": "python2"
  },
  "language_info": {
   "codemirror_mode": {
    "name": "ipython",
    "version": 2
   },
   "file_extension": ".py",
   "mimetype": "text/x-python",
   "name": "python",
   "nbconvert_exporter": "python",
   "pygments_lexer": "ipython2",
   "version": "2.7.13"
  }
 },
 "nbformat": 4,
 "nbformat_minor": 2
}
