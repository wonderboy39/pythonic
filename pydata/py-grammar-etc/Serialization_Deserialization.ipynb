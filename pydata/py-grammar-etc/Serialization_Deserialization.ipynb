{
 "cells": [
  {
   "cell_type": "markdown",
   "metadata": {},
   "source": [
    "# Serialization / Deserialization\n",
    "http://pythonstudy.xyz/python/article/510-직렬화와-역직렬화"
   ]
  },
  {
   "cell_type": "markdown",
   "metadata": {},
   "source": [
    "직렬화(Serialization)\n",
    "객체를 일련의 바이트의 나열로 변환하는 것\n",
    "\n",
    "역직렬화(Deserialization)\n",
    "직렬화되어 있는 바이트들을 파이썬 객체로 메모리 상에 복원하는 것을 역직렬화(Deserialization)이라고 한다.\n",
    "\n",
    "예전회사가 Client/Server통신, 즉 Network Programming을 하는 곳이어서 Serialization/Deserialization 해서 sendMessage()하는 경우를 자주봤다. 하지만 그때는 Java를 쓰는 곳이엇고, 지금은 python을 사용하고 있다는거...\n",
    "\n",
    "파이썬에서 직렬화/역직렬화를 사용할 때 pickle 또는 cPickle모듈을 사용한다. cPickle의 경우 C언어로 작성된 모듈이며 성능상에 이점이 필요할 때 사용한다. 하지만 서브클래스를 만들수 없기 때문에 서브클래스를 작성할 필요가 있으면 pickle을 사용해야 한다.\n",
    "\n",
    "cPickle은 Python2에서는 import cPickle, python3 에서는 import _pickle로 임포트한다.\n"
   ]
  },
  {
   "cell_type": "code",
   "execution_count": 5,
   "metadata": {},
   "outputs": [
    {
     "name": "stdout",
     "output_type": "stream",
     "text": [
      "10 x 20\n"
     ]
    }
   ],
   "source": [
    "import pickle\n",
    "class Rectangle:\n",
    "    def __init__(self, width, height):\n",
    "        self.width = width\n",
    "        self.height = height\n",
    "        self.area = width*height\n",
    "        \n",
    "rect = Rectangle(10,20)\n",
    "\n",
    "# 직렬화 사각형 rect 객체를 직렬화(Serialization)\n",
    "with open('rect.data','wb') as f:\n",
    "    pickle.dump(rect, f)\n",
    "\n",
    "# 역직렬화 (Deserialization)    \n",
    "with open('rect.data','rb') as f:\n",
    "    r = pickle.load(f)\n",
    "    \n",
    "print(\"%d x %d\" % (r.width, r.height))"
   ]
  }
 ],
 "metadata": {
  "kernelspec": {
   "display_name": "Python 2",
   "language": "python",
   "name": "python2"
  },
  "language_info": {
   "codemirror_mode": {
    "name": "ipython",
    "version": 2
   },
   "file_extension": ".py",
   "mimetype": "text/x-python",
   "name": "python",
   "nbconvert_exporter": "python",
   "pygments_lexer": "ipython2",
   "version": "2.7.13"
  }
 },
 "nbformat": 4,
 "nbformat_minor": 2
}
