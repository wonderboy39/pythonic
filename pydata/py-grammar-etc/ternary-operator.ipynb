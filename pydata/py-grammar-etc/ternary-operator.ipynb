{
 "cells": [
  {
   "cell_type": "markdown",
   "metadata": {},
   "source": [
    "# 삼항연산자 ( Ternary Operators )\n",
    "- c,c++,java와는 삼항연산자를 사용하는 방법이 다르다.\n",
    "- 참고자료 : https://ddanggle.gitbooks.io/interpy-kr/content/ch6-ternary-operators.html  \n",
    "  \n",
    "### 기존 c,c++,java에서의 삼항연산자\n",
    "```java\n",
    "boolean result = true;\n",
    "int num = 100;\n",
    "result = (num%2)?0:1\n",
    "```\n",
    "  "
   ]
  },
  {
   "cell_type": "markdown",
   "metadata": {},
   "source": [
    "### python에서의 삼항연산자\n",
    "두가지 방식이 존재한다.\n",
    " 1. 일반적인 방식\n",
    " 2. 튜플을 이용한 방식"
   ]
  },
  {
   "cell_type": "markdown",
   "metadata": {},
   "source": [
    "### 1. python에서의 일반적인 삼항연산자"
   ]
  },
  {
   "cell_type": "code",
   "execution_count": 1,
   "metadata": {},
   "outputs": [
    {
     "data": {
      "text/plain": [
       "'Not Stupid'"
      ]
     },
     "execution_count": 1,
     "metadata": {},
     "output_type": "execute_result"
    }
   ],
   "source": [
    "is_stupid = False\n",
    "state = \"Stupid\" if is_stupid else \"Not Stupid\"\n",
    "state"
   ]
  },
  {
   "cell_type": "markdown",
   "metadata": {},
   "source": [
    "### 2. 튜플을 이용한 삼항연산자\n",
    "- 많이 사용되지 않으며, 파이썬스럽지 않아서 파이썬 사용자들이 좋아하지 않는 방식  \n",
    "- 튜플의 어느곳에 True, False를 대입해야할지 혼동하기 쉬운 문제 존재  \n",
    "- if~else 삼항연산자에 비해 튜플의 요소 둘 모두를 평가하므로 튜플 삼항연산자의 사용은 피하는 것이 좋다.  "
   ]
  },
  {
   "cell_type": "code",
   "execution_count": 5,
   "metadata": {},
   "outputs": [
    {
     "data": {
      "text/plain": [
       "'Not Stupid'"
      ]
     },
     "execution_count": 5,
     "metadata": {},
     "output_type": "execute_result"
    }
   ],
   "source": [
    "is_stupid = False\n",
    "state = (\"Not Stupid\", \"Stupid\") [is_stupid]\n",
    "#  튜플 [0] : Not Stupid\n",
    "#  튜플 [1] : Stupid\n",
    "state"
   ]
  },
  {
   "cell_type": "markdown",
   "metadata": {},
   "source": [
    "### * 튜플 삼항연산자의 동작원리, 삼항연산자 사용시 주의점"
   ]
  },
  {
   "cell_type": "markdown",
   "metadata": {},
   "source": [
    "튜플의 삼항테크닉 때문인데, 튜플이 생성되고 난 후 그 다음 인덱스를 찾기 때문에 발생한다. if~else삼항연산자는 일반적인 if~else로직을 따라간다. 따라서 조건에 따라 예외를 발생시켜야 하거나 무거운 계산이 필요한 경우에는 사용하지 않는 것이 좋다.\n",
    "  \n",
    "아래는 또 다른 예제다...  "
   ]
  },
  {
   "cell_type": "code",
   "execution_count": 6,
   "metadata": {},
   "outputs": [
    {
     "name": "stdout",
     "output_type": "stream",
     "text": [
      "2\n"
     ]
    }
   ],
   "source": [
    "condition = True\n",
    "print (2 if condition else 2/1)"
   ]
  },
  {
   "cell_type": "code",
   "execution_count": 7,
   "metadata": {},
   "outputs": [
    {
     "name": "stdout",
     "output_type": "stream",
     "text": [
      "2\n"
     ]
    }
   ],
   "source": [
    "print((1/2, 2) [condition])"
   ]
  }
 ],
 "metadata": {
  "kernelspec": {
   "display_name": "Python 2",
   "language": "python",
   "name": "python2"
  },
  "language_info": {
   "codemirror_mode": {
    "name": "ipython",
    "version": 2
   },
   "file_extension": ".py",
   "mimetype": "text/x-python",
   "name": "python",
   "nbconvert_exporter": "python",
   "pygments_lexer": "ipython2",
   "version": "2.7.13"
  }
 },
 "nbformat": 4,
 "nbformat_minor": 2
}
