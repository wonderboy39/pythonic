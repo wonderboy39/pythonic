{
 "cells": [
  {
   "cell_type": "markdown",
   "metadata": {},
   "source": [
    "# Enumerate, generator, comprehension, expression, iterable vs iterator"
   ]
  },
  {
   "cell_type": "markdown",
   "metadata": {},
   "source": [
    "# 1. enumerate()"
   ]
  },
  {
   "cell_type": "markdown",
   "metadata": {},
   "source": [
    "Enumerate는 파이썬의 내장함수다. 열거형의 유용함은 한줄로 요약하기 힘들다. Enumerate는 반복문에서 index와 값을 동시에 순회할 수 있도록 한다.  "
   ]
  },
  {
   "cell_type": "code",
   "execution_count": 1,
   "metadata": {
    "collapsed": true
   },
   "outputs": [],
   "source": [
    "l_input = ['hello', '안녕하쇼', '곤니짜와', '니하오']"
   ]
  },
  {
   "cell_type": "code",
   "execution_count": 2,
   "metadata": {
    "scrolled": true
   },
   "outputs": [
    {
     "name": "stdout",
     "output_type": "stream",
     "text": [
      "l_input[0] :: hello\n",
      "l_input[1] :: 안녕하쇼\n",
      "l_input[2] :: 곤니짜와\n",
      "l_input[3] :: 니하오\n"
     ]
    }
   ],
   "source": [
    "for idx, value in enumerate(l_input):\n",
    "    print('l_input[{}] :: {}'.format(idx, value))"
   ]
  },
  {
   "cell_type": "markdown",
   "metadata": {},
   "source": [
    "선택적인자(optional argument)를 허용함으로써, 더 유용하게 사용할 수 있다.  \n",
    "아래의 인자는 enumerate()함수 내에 두번째 인자에 1을 전달해주는 것으로 idx를 1부터 시작하도록 지정해주었다."
   ]
  },
  {
   "cell_type": "code",
   "execution_count": 3,
   "metadata": {
    "collapsed": true
   },
   "outputs": [],
   "source": [
    "l_fruits = ['Apple','Banana','Grape']"
   ]
  },
  {
   "cell_type": "code",
   "execution_count": 4,
   "metadata": {
    "scrolled": true
   },
   "outputs": [
    {
     "name": "stdout",
     "output_type": "stream",
     "text": [
      "idx::1, value::Apple\n",
      "idx::2, value::Banana\n",
      "idx::3, value::Grape\n"
     ]
    }
   ],
   "source": [
    "for idx, fruit in enumerate(l_fruits,1):\n",
    "    print('idx::{}, value::{}'.format(idx, fruit))"
   ]
  },
  {
   "cell_type": "markdown",
   "metadata": {},
   "source": [
    "선택적 인자는 enumerate에 어떤 인덱스값부터 시작해서 열거되는지 알려준다. 또 인덱스를 포함하는 튜플을 만들수도 있고 리스트를 사용해서 리스트 아이템을 만들수도 있다."
   ]
  },
  {
   "cell_type": "code",
   "execution_count": 5,
   "metadata": {},
   "outputs": [
    {
     "name": "stdout",
     "output_type": "stream",
     "text": [
      "[(1, 'Apple'), (2, 'Banana'), (3, 'Grape')]\n"
     ]
    }
   ],
   "source": [
    "l_idx = list(enumerate(l_fruits,1))\n",
    "print(l_idx)"
   ]
  },
  {
   "cell_type": "code",
   "execution_count": null,
   "metadata": {
    "collapsed": true
   },
   "outputs": [],
   "source": []
  },
  {
   "cell_type": "code",
   "execution_count": null,
   "metadata": {
    "collapsed": true
   },
   "outputs": [],
   "source": []
  },
  {
   "cell_type": "code",
   "execution_count": null,
   "metadata": {
    "collapsed": true
   },
   "outputs": [],
   "source": []
  },
  {
   "cell_type": "markdown",
   "metadata": {},
   "source": [
    "# iterable vs Iterator\n",
    "http://bluese05.tistory.com/55"
   ]
  }
 ],
 "metadata": {
  "kernelspec": {
   "display_name": "Python 2",
   "language": "python",
   "name": "python2"
  },
  "language_info": {
   "codemirror_mode": {
    "name": "ipython",
    "version": 2
   },
   "file_extension": ".py",
   "mimetype": "text/x-python",
   "name": "python",
   "nbconvert_exporter": "python",
   "pygments_lexer": "ipython2",
   "version": "2.7.13"
  }
 },
 "nbformat": 4,
 "nbformat_minor": 2
}
