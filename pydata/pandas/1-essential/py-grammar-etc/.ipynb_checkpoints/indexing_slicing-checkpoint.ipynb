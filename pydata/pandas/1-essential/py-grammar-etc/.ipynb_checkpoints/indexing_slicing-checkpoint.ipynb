{
 "cells": [
  {
   "cell_type": "markdown",
   "metadata": {},
   "source": [
    "# 인덱싱, 슬라이싱\n",
    "1. 문자열 인덱싱 및 슬라이싱  \n",
    "2. 리스트 인덱싱 및 슬라이싱  \n",
    "  "
   ]
  },
  {
   "cell_type": "markdown",
   "metadata": {},
   "source": [
    "# 1. 문자열 인덱싱, 슬라이싱\n",
    "참고자료 : https://wikidocs.net/2838  "
   ]
  },
  {
   "cell_type": "markdown",
   "metadata": {},
   "source": [
    "**파이썬의 문자열**  \n",
    "공백도 하나의 문자로 취급한다. 따라서 아래 예제에서 len(mystring)을 수행한 결과값은 11이 출력된다."
   ]
  },
  {
   "cell_type": "code",
   "execution_count": 1,
   "metadata": {},
   "outputs": [
    {
     "data": {
      "text/plain": [
       "11"
      ]
     },
     "execution_count": 1,
     "metadata": {},
     "output_type": "execute_result"
    }
   ],
   "source": [
    "mystring = 'hello world'\n",
    "len(mystring)"
   ]
  },
  {
   "cell_type": "markdown",
   "metadata": {},
   "source": [
    "**슬라이싱**  \n",
    "파이썬에서는 '슬라이싱'이라는 기능을 제공하는데 아래와 같이 가져오고 싶은 문자열의 범위를 지정해서 원하는 부분만 얻어올 수 있다. slice라는 영단어는 '자르다','일부','한 조각'과 같은 의미가 있다.  \n",
    "  \n",
    "[start:end]  \n",
    "와 같은 형식으로 지정되는데 java의 split등을 사용할 때와 유사한 규칙이 적용된다. 다른 프로그래밍 언어의 배열 및 문자열 인덱스와 마찬가지로 문자열의 시작 인덱스는 0 이다. \n",
    "  \n",
    "start는 inclusive 한 특징을 지니며, 해당 인덱스를 **포함**하여 슬라이싱한다.  \n",
    "end 는 exclusive 한 특징을 지니며, 해당 인덱스를 **배제**하여 슬라이싱한다.  "
   ]
  },
  {
   "cell_type": "markdown",
   "metadata": {},
   "source": [
    "**'hello' 파싱**"
   ]
  },
  {
   "cell_type": "code",
   "execution_count": 2,
   "metadata": {},
   "outputs": [
    {
     "data": {
      "text/plain": [
       "'hello'"
      ]
     },
     "execution_count": 2,
     "metadata": {},
     "output_type": "execute_result"
    }
   ],
   "source": [
    "mystring[0:5]"
   ]
  },
  {
   "cell_type": "code",
   "execution_count": 3,
   "metadata": {},
   "outputs": [
    {
     "data": {
      "text/plain": [
       "'hell'"
      ]
     },
     "execution_count": 3,
     "metadata": {},
     "output_type": "execute_result"
    }
   ],
   "source": [
    "mystring[0:4]"
   ]
  },
  {
   "cell_type": "markdown",
   "metadata": {},
   "source": [
    "**'world' 파싱**  \n",
    "'w'는 6번째 인덱스, 가장 마지막에 위치한 'd'의 인덱스는 10이다. 슬라이싱 적용시  \n",
    "* start값은 inclusive하게 적용되므로 'w'가 위치한 인덱스인 6을 포함해서 슬라이싱할 수있도록 6을 지정해주면 된다.  \n",
    "* end값은 exclusive하게 인식되므로 'd'의 인덱스인 10에 +1을 해주어 지정해주면 된다.   "
   ]
  },
  {
   "cell_type": "code",
   "execution_count": 4,
   "metadata": {},
   "outputs": [
    {
     "data": {
      "text/plain": [
       "'world'"
      ]
     },
     "execution_count": 4,
     "metadata": {},
     "output_type": "execute_result"
    }
   ],
   "source": [
    "mystring[6:11]"
   ]
  },
  {
   "cell_type": "markdown",
   "metadata": {},
   "source": [
    "**인덱싱, 슬라이싱 시 가장 마지막 글자를 지칭하는 방식**  \n",
    "파이썬의 슬라이싱에서는 시작값, 끝값을 생략하면 해당 문자열의 시작, 끝을 의미한다."
   ]
  },
  {
   "cell_type": "code",
   "execution_count": 5,
   "metadata": {},
   "outputs": [
    {
     "data": {
      "text/plain": [
       "'world'"
      ]
     },
     "execution_count": 5,
     "metadata": {},
     "output_type": "execute_result"
    }
   ],
   "source": [
    "mystring[6:]"
   ]
  },
  {
   "cell_type": "code",
   "execution_count": 6,
   "metadata": {},
   "outputs": [
    {
     "data": {
      "text/plain": [
       "'hello'"
      ]
     },
     "execution_count": 6,
     "metadata": {},
     "output_type": "execute_result"
    }
   ],
   "source": [
    "mystring[:5]"
   ]
  },
  {
   "cell_type": "markdown",
   "metadata": {},
   "source": [
    "**음수 인덱스의 의미**  \n",
    "음수 인덱스의 의미는 역순으로 찾겠다는 의미다. 역순인덱스는 0부터 시작하지 않는다. -1부터 시작한다.  \n",
    "'hello world'에서 -1이 가리키는 곳은 'd'이다. (끝에서 첫번째)  \n",
    "'hello world'에서 -2의 가리키는 곳은 'l'이다. (끝에서 두번째)  \n"
   ]
  },
  {
   "cell_type": "code",
   "execution_count": 7,
   "metadata": {},
   "outputs": [
    {
     "data": {
      "text/plain": [
       "'d'"
      ]
     },
     "execution_count": 7,
     "metadata": {},
     "output_type": "execute_result"
    }
   ],
   "source": [
    "mystring[-1]"
   ]
  },
  {
   "cell_type": "code",
   "execution_count": 8,
   "metadata": {},
   "outputs": [
    {
     "data": {
      "text/plain": [
       "'l'"
      ]
     },
     "execution_count": 8,
     "metadata": {},
     "output_type": "execute_result"
    }
   ],
   "source": [
    "mystring[-2]"
   ]
  },
  {
   "cell_type": "markdown",
   "metadata": {},
   "source": [
    "# 2. 리스트 인덱싱, 슬라이싱\n",
    "  \n",
    "참고자료 : https://wikidocs.net/2848  \n",
    "  "
   ]
  }
 ],
 "metadata": {
  "kernelspec": {
   "display_name": "Python 2",
   "language": "python",
   "name": "python2"
  },
  "language_info": {
   "codemirror_mode": {
    "name": "ipython",
    "version": 2
   },
   "file_extension": ".py",
   "mimetype": "text/x-python",
   "name": "python",
   "nbconvert_exporter": "python",
   "pygments_lexer": "ipython2",
   "version": "2.7.13"
  }
 },
 "nbformat": 4,
 "nbformat_minor": 2
}
