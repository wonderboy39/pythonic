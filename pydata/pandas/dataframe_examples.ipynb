{
 "cells": [
  {
   "cell_type": "markdown",
   "metadata": {},
   "source": [
    "# DataFrame예제들\n",
    " - 실제로 부딛혀본 케이스들 정리  \n",
    "### Index\n",
    "1. 딕셔너리를 DataFrame으로 변환하는 예\n",
    "2. DataFrame을 제너레이터 표현식으로 순환하기  \n",
    " (Effective Python - 9) 컴프리헨션이 클때는 제너레이터 표현식을 고려하자.  \n",
    "3. \n"
   ]
  },
  {
   "cell_type": "code",
   "execution_count": 1,
   "metadata": {
    "collapsed": true
   },
   "outputs": [],
   "source": [
    "# -*- encoding : utf-8 -*-\n",
    "import pandas as pd\n",
    "from pandas import DataFrame, Series"
   ]
  },
  {
   "cell_type": "markdown",
   "metadata": {},
   "source": [
    "### 1. 딕셔너리를 DataFrame으로 변환하는 예제"
   ]
  },
  {
   "cell_type": "code",
   "execution_count": 2,
   "metadata": {
    "collapsed": true
   },
   "outputs": [],
   "source": [
    "l_fruits = [\n",
    "    {\n",
    "        'product': 'Apple',\n",
    "        'country': 'Korea',\n",
    "        'price': 1000,\n",
    "        'arrived': '2017-06-02'\n",
    "    },\n",
    "    {\n",
    "        'product': 'Banana',\n",
    "        'country': 'Africa',\n",
    "        'price': 800,\n",
    "        'arrived': '2017-06-12'\n",
    "    },\n",
    "    {\n",
    "        'product': 'Grape',\n",
    "        'country': 'Japan',\n",
    "        'price': 1200,\n",
    "        'arrived': '2017-06-22'\n",
    "    },\n",
    "]"
   ]
  },
  {
   "cell_type": "code",
   "execution_count": 31,
   "metadata": {
    "scrolled": true
   },
   "outputs": [
    {
     "name": "stdout",
     "output_type": "stream",
     "text": [
      "{'country': 'Korea', 'product': 'Apple', 'arrived': '2017-06-02', 'price': 1000}\n",
      "{'country': 'Africa', 'product': 'Banana', 'arrived': '2017-06-12', 'price': 800}\n",
      "{'country': 'Japan', 'product': 'Grape', 'arrived': '2017-06-22', 'price': 1200}\n"
     ]
    },
    {
     "data": {
      "text/html": [
       "<div>\n",
       "<style>\n",
       "    .dataframe thead tr:only-child th {\n",
       "        text-align: right;\n",
       "    }\n",
       "\n",
       "    .dataframe thead th {\n",
       "        text-align: left;\n",
       "    }\n",
       "\n",
       "    .dataframe tbody tr th {\n",
       "        vertical-align: top;\n",
       "    }\n",
       "</style>\n",
       "<table border=\"1\" class=\"dataframe\">\n",
       "  <thead>\n",
       "    <tr style=\"text-align: right;\">\n",
       "      <th></th>\n",
       "      <th>country</th>\n",
       "      <th>product</th>\n",
       "      <th>price</th>\n",
       "      <th>arrived</th>\n",
       "    </tr>\n",
       "  </thead>\n",
       "  <tbody>\n",
       "    <tr>\n",
       "      <th>0</th>\n",
       "      <td>Korea</td>\n",
       "      <td>Apple</td>\n",
       "      <td>2017-06-02</td>\n",
       "      <td>1000</td>\n",
       "    </tr>\n",
       "    <tr>\n",
       "      <th>1</th>\n",
       "      <td>Africa</td>\n",
       "      <td>Banana</td>\n",
       "      <td>2017-06-12</td>\n",
       "      <td>800</td>\n",
       "    </tr>\n",
       "    <tr>\n",
       "      <th>2</th>\n",
       "      <td>Japan</td>\n",
       "      <td>Grape</td>\n",
       "      <td>2017-06-22</td>\n",
       "      <td>1200</td>\n",
       "    </tr>\n",
       "  </tbody>\n",
       "</table>\n",
       "</div>"
      ],
      "text/plain": [
       "  country product       price arrived\n",
       "0   Korea   Apple  2017-06-02    1000\n",
       "1  Africa  Banana  2017-06-12     800\n",
       "2   Japan   Grape  2017-06-22    1200"
      ]
     },
     "execution_count": 31,
     "metadata": {},
     "output_type": "execute_result"
    }
   ],
   "source": [
    "df_fruits = pd.DataFrame(columns=['country','product','price','arrived'])\n",
    "def get_df_fruit():\n",
    "    def dict_to_df(x):\n",
    "        df_fruits.loc[len(df_fruits)] = x.values()\n",
    "        print(x)\n",
    "    \n",
    "    [dict_to_df(fruit) for fruit in l_fruits]\n",
    "get_df_fruit()\n",
    "df_fruits"
   ]
  },
  {
   "cell_type": "markdown",
   "metadata": {},
   "source": [
    "# 2. DataFrame을 제너레이터 표현식으로 순환하기  \n",
    " (Effective Python - 9) 컴프리헨션이 클때는 제너레이터 표현식을 고려하자."
   ]
  },
  {
   "cell_type": "markdown",
   "metadata": {},
   "source": [
    "## 2.1. DataFrame.iterrows() - generator\n",
    "https://pandas.pydata.org/pandas-docs/stable/generated/pandas.DataFrame.iterrows.html"
   ]
  },
  {
   "cell_type": "code",
   "execution_count": 40,
   "metadata": {},
   "outputs": [
    {
     "data": {
      "text/plain": [
       "country         Korea\n",
       "product         Apple\n",
       "price      2017-06-02\n",
       "arrived          1000\n",
       "Name: 0, dtype: object"
      ]
     },
     "execution_count": 40,
     "metadata": {},
     "output_type": "execute_result"
    }
   ],
   "source": [
    "it = (row for i,row in df_fruits.iterrows())\n",
    "it.next()"
   ]
  },
  {
   "cell_type": "code",
   "execution_count": 24,
   "metadata": {},
   "outputs": [
    {
     "data": {
      "text/plain": [
       "(1, product        Africa\n",
       " country        Banana\n",
       " price      2017-06-12\n",
       " arrived           800\n",
       " Name: 1, dtype: object)"
      ]
     },
     "execution_count": 24,
     "metadata": {},
     "output_type": "execute_result"
    }
   ],
   "source": [
    "it.next()"
   ]
  },
  {
   "cell_type": "code",
   "execution_count": 36,
   "metadata": {},
   "outputs": [
    {
     "data": {
      "text/plain": [
       "generator"
      ]
     },
     "execution_count": 36,
     "metadata": {},
     "output_type": "execute_result"
    }
   ],
   "source": [
    "type(it)"
   ]
  },
  {
   "cell_type": "markdown",
   "metadata": {},
   "source": [
    "### iterator로 받아온 하나의 행의 dataframe값을 읽어들이기"
   ]
  },
  {
   "cell_type": "code",
   "execution_count": 42,
   "metadata": {},
   "outputs": [
    {
     "name": "stdout",
     "output_type": "stream",
     "text": [
      "<type 'generator'>\n"
     ]
    }
   ],
   "source": [
    "print(str(type(it)))\n",
    "y = iter(for i,row)"
   ]
  },
  {
   "cell_type": "markdown",
   "metadata": {},
   "source": [
    "## 2.2 DataFrame.iteritems() - Iterator\n",
    "http://pandas.pydata.org/pandas-docs/version/0.17.0/generated/pandas.DataFrame.iteritems.html"
   ]
  },
  {
   "cell_type": "code",
   "execution_count": 35,
   "metadata": {
    "scrolled": true
   },
   "outputs": [
    {
     "name": "stdout",
     "output_type": "stream",
     "text": [
      "<type 'generator'>\n"
     ]
    },
    {
     "data": {
      "text/plain": [
       "('country', 0     Korea\n",
       " 1    Africa\n",
       " 2     Japan\n",
       " Name: country, dtype: object)"
      ]
     },
     "execution_count": 35,
     "metadata": {},
     "output_type": "execute_result"
    }
   ],
   "source": [
    "it = df_fruits.iteritems()\n",
    "print(str(type(it)))\n",
    "next(it)\n",
    "it"
   ]
  }
 ],
 "metadata": {
  "kernelspec": {
   "display_name": "Python 2",
   "language": "python",
   "name": "python2"
  },
  "language_info": {
   "codemirror_mode": {
    "name": "ipython",
    "version": 2
   },
   "file_extension": ".py",
   "mimetype": "text/x-python",
   "name": "python",
   "nbconvert_exporter": "python",
   "pygments_lexer": "ipython2",
   "version": "2.7.13"
  }
 },
 "nbformat": 4,
 "nbformat_minor": 2
}
