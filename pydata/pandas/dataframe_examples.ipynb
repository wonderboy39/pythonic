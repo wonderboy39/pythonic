{
 "cells": [
  {
   "cell_type": "markdown",
   "metadata": {},
   "source": [
    "# DataFrame예제들\n",
    " - 실제로 부딛혀본 케이스들 정리\n",
    "### Index\n",
    "1. 딕셔너리를 DataFrame으로 변환하는 예\n"
   ]
  },
  {
   "cell_type": "code",
   "execution_count": null,
   "metadata": {
    "collapsed": true
   },
   "outputs": [],
   "source": []
  },
  {
   "cell_type": "code",
   "execution_count": 1,
   "metadata": {
    "collapsed": true
   },
   "outputs": [],
   "source": [
    "# -*- encoding : utf-8 -*-\n",
    "import pandas as pd\n",
    "from pandas import DataFrame, Series"
   ]
  },
  {
   "cell_type": "markdown",
   "metadata": {},
   "source": [
    "### 1. 딕셔너리를 DataFrame으로 변환하는 예제"
   ]
  },
  {
   "cell_type": "code",
   "execution_count": 2,
   "metadata": {},
   "outputs": [],
   "source": [
    "l_fruits = [\n",
    "    {\n",
    "        'product': 'Apple',\n",
    "        'country': 'Korea',\n",
    "        'price': 1000,\n",
    "        'arrived': '2017-06-02'\n",
    "    },\n",
    "    {\n",
    "        'product': 'Banana',\n",
    "        'country': 'Africa',\n",
    "        'price': 800,\n",
    "        'arrived': '2017-06-12'\n",
    "    },\n",
    "    {\n",
    "        'product': 'Grape',\n",
    "        'country': 'Japan',\n",
    "        'price': 1200,\n",
    "        'arrived': '2017-06-22'\n",
    "    },\n",
    "]"
   ]
  },
  {
   "cell_type": "code",
   "execution_count": 18,
   "metadata": {},
   "outputs": [
    {
     "name": "stdout",
     "output_type": "stream",
     "text": [
      "{'country': 'Korea', 'product': 'Apple', 'arrived': '2017-06-02', 'price': 1000}\n",
      "{'country': 'Africa', 'product': 'Banana', 'arrived': '2017-06-12', 'price': 800}\n",
      "{'country': 'Japan', 'product': 'Grape', 'arrived': '2017-06-22', 'price': 1200}\n"
     ]
    },
    {
     "data": {
      "text/html": [
       "<div>\n",
       "<style>\n",
       "    .dataframe thead tr:only-child th {\n",
       "        text-align: right;\n",
       "    }\n",
       "\n",
       "    .dataframe thead th {\n",
       "        text-align: left;\n",
       "    }\n",
       "\n",
       "    .dataframe tbody tr th {\n",
       "        vertical-align: top;\n",
       "    }\n",
       "</style>\n",
       "<table border=\"1\" class=\"dataframe\">\n",
       "  <thead>\n",
       "    <tr style=\"text-align: right;\">\n",
       "      <th></th>\n",
       "      <th>product</th>\n",
       "      <th>country</th>\n",
       "      <th>price</th>\n",
       "      <th>arrived</th>\n",
       "    </tr>\n",
       "  </thead>\n",
       "  <tbody>\n",
       "    <tr>\n",
       "      <th>0</th>\n",
       "      <td>Korea</td>\n",
       "      <td>Apple</td>\n",
       "      <td>2017-06-02</td>\n",
       "      <td>1000</td>\n",
       "    </tr>\n",
       "    <tr>\n",
       "      <th>1</th>\n",
       "      <td>Africa</td>\n",
       "      <td>Banana</td>\n",
       "      <td>2017-06-12</td>\n",
       "      <td>800</td>\n",
       "    </tr>\n",
       "    <tr>\n",
       "      <th>2</th>\n",
       "      <td>Japan</td>\n",
       "      <td>Grape</td>\n",
       "      <td>2017-06-22</td>\n",
       "      <td>1200</td>\n",
       "    </tr>\n",
       "  </tbody>\n",
       "</table>\n",
       "</div>"
      ],
      "text/plain": [
       "  product country       price arrived\n",
       "0   Korea   Apple  2017-06-02    1000\n",
       "1  Africa  Banana  2017-06-12     800\n",
       "2   Japan   Grape  2017-06-22    1200"
      ]
     },
     "execution_count": 18,
     "metadata": {},
     "output_type": "execute_result"
    }
   ],
   "source": [
    "df_fruits = pd.DataFrame(columns=['product','country','price','arrived'])\n",
    "def get_df_fruit():\n",
    "    def dict_to_df(x):\n",
    "        df_fruits.loc[len(df_fruits)] = x.values()\n",
    "        print(x)\n",
    "    \n",
    "    [dict_to_df(fruit) for fruit in l_fruits]\n",
    "get_df_fruit()\n",
    "df_fruits"
   ]
  }
 ],
 "metadata": {
  "kernelspec": {
   "display_name": "Python 2",
   "language": "python",
   "name": "python2"
  },
  "language_info": {
   "codemirror_mode": {
    "name": "ipython",
    "version": 2
   },
   "file_extension": ".py",
   "mimetype": "text/x-python",
   "name": "python",
   "nbconvert_exporter": "python",
   "pygments_lexer": "ipython2",
   "version": "2.7.13"
  }
 },
 "nbformat": 4,
 "nbformat_minor": 2
}
