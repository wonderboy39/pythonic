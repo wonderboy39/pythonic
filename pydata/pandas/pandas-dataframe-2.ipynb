{
 "cells": [
  {
   "cell_type": "markdown",
   "metadata": {},
   "source": [
    "# pandas 의 index객체"
   ]
  },
  {
   "cell_type": "markdown",
   "metadata": {},
   "source": [
    "pandas의 index객체는 표 또는 테이블 형식의 데이터에서  \n",
    "* 각 로우와 컬럼에 대한 이름을 지정  \n",
    "* 기타 메타데이터(축의 이름 등)을 저장  \n",
    "  \n",
    "하는 역할을 하는 객체다.  \n"
   ]
  }
 ],
 "metadata": {
  "kernelspec": {
   "display_name": "Python 2",
   "language": "python",
   "name": "python2"
  },
  "language_info": {
   "codemirror_mode": {
    "name": "ipython",
    "version": 2
   },
   "file_extension": ".py",
   "mimetype": "text/x-python",
   "name": "python",
   "nbconvert_exporter": "python",
   "pygments_lexer": "ipython2",
   "version": "2.7.13"
  }
 },
 "nbformat": 4,
 "nbformat_minor": 2
}
