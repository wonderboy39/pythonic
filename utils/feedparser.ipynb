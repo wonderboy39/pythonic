{
 "cells": [
  {
   "cell_type": "markdown",
   "metadata": {},
   "source": [
    "**feedparser 사용하기**"
   ]
  },
  {
   "cell_type": "code",
   "execution_count": 1,
   "metadata": {
    "collapsed": true
   },
   "outputs": [],
   "source": [
    "import feedparser\n",
    "from datetime import datetime"
   ]
  },
  {
   "cell_type": "code",
   "execution_count": 2,
   "metadata": {
    "collapsed": true
   },
   "outputs": [],
   "source": [
    "solarnews = feedparser.parse('https://news.google.com/news/feeds?hl=ko&ned=us&ie=UTF-8&oe=UTF-8&q=%ED%83%9C%EC%96%91%EA%B4%91&output=rss&scoring=n')"
   ]
  },
  {
   "cell_type": "code",
   "execution_count": 3,
   "metadata": {
    "collapsed": true
   },
   "outputs": [],
   "source": [
    "newses = []\n",
    "for news in solarnews.entries[:5]:\n",
    "    news.uid = news.id.split('cluster=')[-1]\n",
    "    news.title = news.title\n",
    "    # news.published = datetime.fromtimestamp(mktime(news.published_parsed))\n",
    "    # print news.published\n",
    "    try:\n",
    "        news.published_parsed_2 = datetime.strptime(news.published, \"%a, %d %b %Y %H:%M:%S GMT\")\n",
    "    except ValueError:\n",
    "        news.published_parsed_2 = None\n",
    "        # print news.published\n",
    "        newses.append(news)"
   ]
  },
  {
   "cell_type": "code",
   "execution_count": 4,
   "metadata": {},
   "outputs": [
    {
     "data": {
      "text/plain": [
       "[]"
      ]
     },
     "execution_count": 4,
     "metadata": {},
     "output_type": "execute_result"
    }
   ],
   "source": [
    "newses"
   ]
  },
  {
   "cell_type": "code",
   "execution_count": 5,
   "metadata": {
    "collapsed": true
   },
   "outputs": [],
   "source": [
    "carnews = feedparser.parse('https://www.google.co.kr/search?client=safari&rls=en&q=%ED%83%9C%EC%96%91%EA%B4%91&ie=UTF-8&oe=UTF-8&gfe_rd=cr&ei=XgleWf7eKLLK8gfRlK24Cg#q=%ED%8B%B0%EB%B3%BC%EB%A6%AC')"
   ]
  },
  {
   "cell_type": "code",
   "execution_count": 6,
   "metadata": {},
   "outputs": [
    {
     "data": {
      "text/plain": [
       "[]"
      ]
     },
     "execution_count": 6,
     "metadata": {},
     "output_type": "execute_result"
    }
   ],
   "source": [
    "car_list = carnews.entries\n",
    "car_list"
   ]
  },
  {
   "cell_type": "code",
   "execution_count": 7,
   "metadata": {},
   "outputs": [
    {
     "data": {
      "text/plain": [
       "{'bozo': 1,\n",
       " 'bozo_exception': xml.sax._exceptions.SAXParseException('syntax error'),\n",
       " 'encoding': u'UTF-8',\n",
       " 'entries': [],\n",
       " 'feed': {'html': {'itemscope': u'',\n",
       "   'itemtype': u'http://schema.org/SearchResultsPage',\n",
       "   'lang': u'ko'},\n",
       "  'links': [{'href': u'https://www.google.co.kr/images/branding/product/ico/googleg_lodp.ico',\n",
       "    'rel': u'shortcut icon',\n",
       "    'type': u'text/html'}],\n",
       "  'meta': {'content': u'/images/branding/googleg/1x/googleg_standard_color_128dp.png',\n",
       "   'itemprop': u'image'},\n",
       "  'script': {'type': u'text/javascript'},\n",
       "  'summary': u'<div id=\"gbar\"><b class=\"gb1\">\\uac80\\uc0c9</b> <a class=\"gb1\" href=\"https://www.google.co.kr/search?hl=ko&amp;tbm=isch&amp;source=og&amp;tab=wi\">\\uc774\\ubbf8\\uc9c0</a> <a class=\"gb1\" href=\"https://maps.google.co.kr/maps?hl=ko&amp;tab=wl\">\\uc9c0\\ub3c4</a> <a class=\"gb1\" href=\"https://play.google.com/?hl=ko&amp;tab=w8\">Play</a> <a class=\"gb1\" href=\"https://www.youtube.com/results?gl=KR&amp;tab=w1\">YouTube</a> <a class=\"gb1\" href=\"https://news.google.co.kr/nwshp?hl=ko&amp;tab=wn\">\\ub274\\uc2a4</a> <a class=\"gb1\" href=\"https://mail.google.com/mail/?tab=wm\">Gmail</a> <a class=\"gb1\" href=\"https://drive.google.com/?tab=wo\">\\ub4dc\\ub77c\\uc774\\ube0c</a> <a class=\"gb1\" href=\"https://www.google.co.kr/intl/ko/options/\" style=\"text-decoration: none;\"><u>\\ub354\\ubcf4\\uae30</u> \\xbb</a></div><div id=\"guser\" width=\"100%\"><span class=\"gbi\" id=\"gbn\"></span><span class=\"gbf\" id=\"gbf\"></span><span id=\"gbe\"></span><a class=\"gb4\" href=\"http://www.google.co.kr/history/optout?hl=ko\">\\uc6f9 \\uae30\\ub85d</a> | <a class=\"gb4\" href=\"https://www.google.co.kr/preferences?hl=ko\">\\uc124\\uc815</a> | <a class=\"gb4\" href=\"https://accounts.google.com/ServiceLogin?hl=ko&amp;passive=true&amp;continue=https://www.google.co.kr/search%3Fclient%3Dsafari%26rls%3Den%26q%3D%25ED%2583%259C%25EC%2596%2591%25EA%25B4%2591%26ie%3DUTF-8%26oe%3DUTF-8%26gfe_rd%3Dcr%26ei%3DXgleWf7eKLLK8gfRlK24Cg\" id=\"gb_70\" target=\"_top\">\\ub85c\\uadf8\\uc778</a></div><div class=\"gbh\"></div><div class=\"gbh\"></div><table border=\"0\" cellpadding=\"0\" cellspacing=\"0\" id=\"mn\"><tr><th width=\"132\"></th><th width=\"573\"></th><th width=\"278\"></th><th></th></tr><tr><td class=\"sfbgg\" valign=\"top\"><div id=\"logocont\"><h1><a href=\"https://www.google.co.kr/webhp?hl=ko\" id=\"logo\" title=\"Go to Google Home\"></a></h1></div></td><td class=\"sfbgg\" colspan=\"2\" style=\"padding-left: 0px;\" valign=\"top\"><form action=\"https://www.google.co.kr/search\" id=\"tsf\" method=\"GET\" name=\"gs\" style=\"display: block; margin: 0; background: none;\"><table border=\"0\" cellpadding=\"0\" cellspacing=\"0\" style=\"margin-top: 20px;\"><tr><td><div class=\"lst-a\"><table cellpadding=\"0\" cellspacing=\"0\"><tr><td class=\"lst-td tia\" valign=\"bottom\" width=\"526\"><div><input autocomplete=\"off\" class=\"lst\" id=\"sbhost\" maxlength=\"2048\" name=\"q\" title=\"\\uac80\\uc0c9\" type=\"text\" value=\"\\ud0dc\\uc591\\uad11\" /></div></td><td class=\"lst-td\"><div class=\"lst-b\"><img alt=\"\" height=\"23\" src=\"https://www.google.co.kr/textinputassistant/tia.png\" style=\"padding-top: 2px;\" width=\"27\" /></div></td></tr></table></div></td><td><div class=\"ds\" style=\"margin-left: 16px;\"><div class=\"lsbb\"><button class=\"lsb\" name=\"btnG\" type=\"submit\" value=\"\\uac80\\uc0c9\"><span class=\"sbico\"></span></button></div></div></td></tr></table><input name=\"client\" type=\"hidden\" value=\"safari\" /><input name=\"rls\" type=\"hidden\" value=\"en\" /><input name=\"oe\" type=\"hidden\" value=\"UTF-8\" /></form></td><td class=\"sfbgg\">\\xa0</td></tr><tr><td><div style=\"border-bottom: 1px solid #ebebeb; height: 59px;\"></div></td><td colspan=\"2\"><div class=\"tn\"><div class=\"_UXb _Ihd _sxc _Hhd\">\\uc804\\uccb4</div><div class=\"_sxc\"><a class=\"_UXb _Jhd\" href=\"https://www.google.co.kr/search?q=%ED%83%9C%EC%96%91%EA%B4%91&amp;client=safari&amp;rls=en&amp;ie=UTF-8&amp;oe=UTF-8&amp;prmd=ivnslp&amp;source=lnms&amp;tbm=isch&amp;sa=X&amp;ved=0ahUKEwiOm4mmw_TUAhVGTLwKHQ1nAE8Q_AUIBQ\">\\uc774\\ubbf8\\uc9c0</a></div><div class=\"_sxc\"><a class=\"_UXb _Jhd\" href=\"https://www.google.co.kr/search?q=%ED%83%9C%EC%96%91%EA%B4%91&amp;client=safari&amp;rls=en&amp;ie=UTF-8&amp;oe=UTF-8&amp;prmd=ivnslp&amp;source=lnms&amp;tbm=vid&amp;sa=X&amp;ved=0ahUKEwiOm4mmw_TUAhVGTLwKHQ1nAE8Q_AUIBg\">\\ub3d9\\uc601\\uc0c1</a></div><div class=\"_sxc\"><a class=\"_UXb _Jhd\" href=\"https://www.google.co.kr/search?q=%ED%83%9C%EC%96%91%EA%B4%91&amp;client=safari&amp;rls=en&amp;ie=UTF-8&amp;oe=UTF-8&amp;prmd=ivnslp&amp;source=lnms&amp;tbm=nws&amp;sa=X&amp;ved=0ahUKEwiOm4mmw_TUAhVGTLwKHQ1nAE8Q_AUIBw\">\\ub274\\uc2a4</a></div><div class=\"_sxc\"><a class=\"_UXb _Jhd\" href=\"https://maps.google.co.kr/maps?client=safari&amp;rls=en&amp;q=%ED%83%9C%EC%96%91%EA%B4%91&amp;oe=UTF-8&amp;gfe_rd=cr&amp;um=1&amp;ie=UTF-8&amp;sa=X&amp;ved=0ahUKEwiOm4mmw_TUAhVGTLwKHQ1nAE8Q_AUICA\">\\uc9c0\\ub3c4</a></div><div class=\"_sxc\"><a class=\"_UXb _Jhd\" href=\"https://www.google.co.kr/search?q=%ED%83%9C%EC%96%91%EA%B4%91&amp;client=safari&amp;rls=en&amp;ie=UTF-8&amp;oe=UTF-8&amp;prmd=ivnslp&amp;source=lnms&amp;tbm=bks&amp;sa=X&amp;ved=0ahUKEwiOm4mmw_TUAhVGTLwKHQ1nAE8Q_AUICQ\">\\ub3c4\\uc11c</a></div></div><div style=\"border-bottom: 1px solid #ebebeb; height: 59px;\"></div></td><td><div style=\"border-bottom: 1px solid #ebebeb; height: 59px;\"></div></td></tr><tbody id=\"desktop-search\">&gt;&gt;<tr><td id=\"leftnav\" valign=\"top\"><div><h2 class=\"hd\">Search Options</h2><ul class=\"med\" id=\"tbd\"><li><ul class=\"tbt\"><li class=\"tbos\" id=\"lr_\">\\ubaa8\\ub4e0 \\uc5b8\\uc5b4</li><li class=\"tbou\" id=\"lr_lang_1ko\"><a class=\"q\" href=\"https://www.google.co.kr/search?q=%ED%83%9C%EC%96%91%EA%B4%91&amp;client=safari&amp;rls=en&amp;ie=UTF-8&amp;oe=UTF-8&amp;prmd=ivnslp&amp;source=lnt&amp;tbs=lr:lang_1ko&amp;lr=lang_ko&amp;sa=X&amp;ved=0ahUKEwiOm4mmw_TUAhVGTLwKHQ1nAE8QpwUIDg\">\\ud55c\\uad6d\\uc5b4 \\uc6f9</a></li></ul></li><li><ul class=\"tbt\"><li class=\"tbos\" id=\"qdr_\">\\ubaa8\\ub4e0 \\ub0a0\\uc9dc</li><li class=\"tbou\" id=\"qdr_h\"><a class=\"q\" href=\"https://www.google.co.kr/search?q=%ED%83%9C%EC%96%91%EA%B4%91&amp;client=safari&amp;rls=en&amp;ie=UTF-8&amp;oe=UTF-8&amp;prmd=ivnslp&amp;source=lnt&amp;tbs=qdr:h&amp;sa=X&amp;ved=0ahUKEwiOm4mmw_TUAhVGTLwKHQ1nAE8QpwUIDg\"> \\uc9c0\\ub09c 1\\uc2dc\\uac04</a></li><li class=\"tbou\" id=\"qdr_d\"><a class=\"q\" href=\"https://www.google.co.kr/search?q=%ED%83%9C%EC%96%91%EA%B4%91&amp;client=safari&amp;rls=en&amp;ie=UTF-8&amp;oe=UTF-8&amp;prmd=ivnslp&amp;source=lnt&amp;tbs=qdr:d&amp;sa=X&amp;ved=0ahUKEwiOm4mmw_TUAhVGTLwKHQ1nAE8QpwUIDg\"> \\uc9c0\\ub09c 1\\uc77c</a></li><li class=\"tbou\" id=\"qdr_w\"><a class=\"q\" href=\"https://www.google.co.kr/search?q=%ED%83%9C%EC%96%91%EA%B4%91&amp;client=safari&amp;rls=en&amp;ie=UTF-8&amp;oe=UTF-8&amp;prmd=ivnslp&amp;source=lnt&amp;tbs=qdr:w&amp;sa=X&amp;ved=0ahUKEwiOm4mmw_TUAhVGTLwKHQ1nAE8QpwUIDg\"> \\uc9c0\\ub09c 1\\uc8fc</a></li><li class=\"tbou\" id=\"qdr_m\"><a class=\"q\" href=\"https://www.google.co.kr/search?q=%ED%83%9C%EC%96%91%EA%B4%91&amp;client=safari&amp;rls=en&amp;ie=UTF-8&amp;oe=UTF-8&amp;prmd=ivnslp&amp;source=lnt&amp;tbs=qdr:m&amp;sa=X&amp;ved=0ahUKEwiOm4mmw_TUAhVGTLwKHQ1nAE8QpwUIDg\"> \\uc9c0\\ub09c 1\\uac1c\\uc6d4</a></li><li class=\"tbou\" id=\"qdr_y\"><a class=\"q\" href=\"https://www.google.co.kr/search?q=%ED%83%9C%EC%96%91%EA%B4%91&amp;client=safari&amp;rls=en&amp;ie=UTF-8&amp;oe=UTF-8&amp;prmd=ivnslp&amp;source=lnt&amp;tbs=qdr:y&amp;sa=X&amp;ved=0ahUKEwiOm4mmw_TUAhVGTLwKHQ1nAE8QpwUIDg\"> \\uc9c0\\ub09c 1\\ub144</a></li></ul></li><li><ul class=\"tbt\"><li class=\"tbos\" id=\"li_\">\\ubaa8\\ub4e0 \\uacb0\\uacfc</li><li class=\"tbou\" id=\"li_1\"><a class=\"q\" href=\"https://www.google.co.kr/search?q=%ED%83%9C%EC%96%91%EA%B4%91&amp;client=safari&amp;rls=en&amp;ie=UTF-8&amp;oe=UTF-8&amp;prmd=ivnslp&amp;source=lnt&amp;tbs=li:1&amp;sa=X&amp;ved=0ahUKEwiOm4mmw_TUAhVGTLwKHQ1nAE8QpwUIDg\">\\uc644\\uc804\\uc77c\\uce58</a></li></ul></li></ul></div></td><td valign=\"top\"><div id=\"center_col\"><div class=\"sd\" id=\"resultStats\">\\uac80\\uc0c9\\uacb0\\uacfc \\uc57d 6,630,000\\uac1c</div><div id=\"res\"><div id=\"topstuff\"></div><div id=\"search\"><div id=\"ires\"><ol><div class=\"g\"><div><h3 class=\"r\"><a href=\"https://www.google.co.kr/search?q=%ED%83%9C%EC%96%91%EA%B4%91&amp;client=safari&amp;rls=en&amp;ie=UTF-8&amp;oe=UTF-8&amp;prmd=ivnslp&amp;source=univ&amp;tbm=nws&amp;tbo=u&amp;sa=X&amp;ved=0ahUKEwiOm4mmw_TUAhVGTLwKHQ1nAE8QqAIIEw\"><b>\\ud0dc\\uc591\\uad11</b> \\uad00\\ub828 \\ub274\\uc2a4</a></h3><table class=\"ts\"><tr><td style=\"font-size: 78%; line-height: normal; padding: 7px 8px 0 0; text-align: center;\" valign=\"top\"><a href=\"https://www.google.co.kr/url?q=http://www.hankookilbo.com/v/10c3e7941090495a960316c84bf4431c&amp;sa=U&amp;ved=0ahUKEwiOm4mmw_TUAhVGTLwKHQ1nAE8QpwIIFA&amp;usg=AFQjCNGFZRJS2HkI1DL_BEN27QkUAqOVHw\"><img border=\"1\" class=\"th\" height=\"100\" src=\"https://encrypted-tbn0.gstatic.com/images?q=tbn:ANd9GcS1uzeDL6Rjk9asnirE7klhqEbfJX_f5aq-hqIsFcwMS9ekmQ8tmJBop7IGUe1379Tqimk\" width=\"100\" /><br /></a><span class=\"_pJb _yhd\">\\ud55c\\uad6d\\uc77c\\ubcf4</span></td><td valign=\"top\"><div style=\"margin-top: 5px;\"><a href=\"https://www.google.co.kr/url?q=http://www.hankookilbo.com/v/10c3e7941090495a960316c84bf4431c&amp;sa=U&amp;ved=0ahUKEwiOm4mmw_TUAhVGTLwKHQ1nAE8QqQIIFjAA&amp;usg=AFQjCNGFZRJS2HkI1DL_BEN27QkUAqOVHw\">\\uc804\\uad6d \\ucd5c\\ucd08 \\uc81c\\uc8fc \\ud0dc\\uc591\\uad11 \\uc804\\uae30\\ub18d\\uc0ac \\'\\uc090\\uac71\\'</a><div style=\"padding-top: 2px;\"><cite>\\ud55c\\uad6d\\uc77c\\ubcf4</cite><span class=\"f\"> - <span class=\"nobr\">5\\uc2dc\\uac04 \\uc804</span><span class=\"nobr\"></span></span></div><div class=\"j\" style=\"margin-top: 1px; margin-bottom: 4px;\"><span class=\"st\">\\uc218\\uac1c\\uc6d4\\uc9f8 \\uc911\\ub2e8 \\ub18d\\ubbfc\\ub9cc \\uc18d \\ud0c0 \\uc81c\\uc8fc\\ub3c4\\uac00 \\uc804\\uad6d \\ucd5c\\ucd08\\ub85c \\ucd94\\uc9c4\\ud558\\uace0 \\uc788\\ub294 \\'\\uac10\\uade4 \\ud3d0\\uc6d0\\uc9c0 <b>\\ud0dc\\uc591</b><br />\\n<b>\\uad11</b> \\uc804\\uae30\\ub18d\\uc0ac\\' \\uc0ac\\uc5c5\\uc774 \\uc218\\uac1c\\uc6d4\\uc9f8 \\uc911\\ub2e8\\ub418\\ub294 \\ub4f1 \\uc2dc\\uc791\\ubd80\\ud130 \\uc090\\uac71\\uac70\\ub9ac\\uace0\\xa0...</span></div></div><div style=\"margin-top: 4px;\"><a href=\"https://www.google.co.kr/url?q=http://www.jejudomin.co.kr/news/articleView.html%3Fidxno%3D88722&amp;sa=U&amp;ved=0ahUKEwiOm4mmw_TUAhVGTLwKHQ1nAE8QqQIIGDAB&amp;usg=AFQjCNF5FYXf9Igadetfs_XjoBGaNvZY6A\">\\uacbd\\ub85c\\ub2f9\\uc5d0 \\ud0dc\\uc591\\uad11\\ubc1c\\uc804 \\'\\uc804\\uae30\\ub8cc \\uc808\\uac10\\'</a><div style=\"padding-top: 2px;\"><cite>\\uc81c\\uc8fc\\ub3c4\\ubbfc\\uc77c\\ubcf4</cite><span class=\"f\"> - <span class=\"nobr\">10\\uc2dc\\uac04 \\uc804</span><span class=\"nobr\"></span></span></div></div><div style=\"margin-top: 4px;\"><a href=\"https://www.google.co.kr/url?q=http://www.hani.co.kr/arti/society/area/801544.html&amp;sa=U&amp;ved=0ahUKEwiOm4mmw_TUAhVGTLwKHQ1nAE8QqQIIGjAC&amp;usg=AFQjCNHBCt_S4quGnP1gjmv7KnnM6rI1qw\">\\uc6b8\\uc0b0\\uc2dc, \\uc544\\ud30c\\ud2b8 \\ubbf8\\ub2c8 \\ud0dc\\uc591\\uad11 \\ubc1c\\uc804\\uc124\\ube44 \\ubcf4\\uae09 \\ud655\\ub300</a><div style=\"padding-top: 2px;\"><cite>\\ud55c\\uaca8\\ub808</cite><span class=\"f\"> - <span class=\"nobr\">1\\uc77c \\uc804</span><span class=\"nobr\"></span></span></div></div></td></tr></table></div></div><div class=\"_Arj g\"><a href=\"https://maps.google.co.kr/maps?client=safari&amp;rls=en&amp;oe=UTF-8&amp;gfe_rd=cr&amp;um=1&amp;ie=UTF-8&amp;fb=1&amp;gl=kr&amp;sa=X&amp;sll=37.4956781,126.9788481&amp;sspn=0.104604,0.1757976&amp;q=%ED%83%9C%EC%96%91%EA%B4%91&amp;ved=0ahUKEwiOm4mmw_TUAhVGTLwKHQ1nAE8QtgMIIA\" style=\"height: 200px; display: block;\" tabindex=\"0\"><img alt=\"\\ud0dc\\uc591\\uad11 \\uc9c0\\ub3c4\" border=\"0\" height=\"200\" id=\"lu_map\" src=\"https://www.google.co.kr/maps/vt/data=Bm-I_KuVa3AxlnwyT7FqjEI9m8_rXtPaO9NzgoAf_q4HXvDSqn2WJsu-geGOL5lzwRRC7LFHLvWqMY7W0ILnsooc837JFcwy1Nxsc9UWOB6-GSSJYhQhTZwzWPu8QnRvEr1WDIys4Ud2k75VBWyZ_xDL2lnhTTT8luecDCdSpf7wB63Zg4dLxxVz9T1XJ9LAcqEVFIgi5sqXI6s1Gl9wwNxo0FeZyj7SbFj8xLe7E9TllTWF0d5wn73hQ2Xd2twCrbjpqccwwibLqBEXR2Md-f0uAvew_hTFcTkPEzk_wYh3eWNWARz4EpLDNlZkn3w6aMPz_FfHMQO-69M-VrFaS7uTxPy7IPFW8SOnlJOCPr0FBV-EejiQJsF1y0-yslKkeFLat9UoZ84CnwGYUkbrXwBb_6-iWMCwT6uolxr0hDx90vo8qs6sLwtB5OlTR4CQ3_yDBiH8xctiifUKqzuXbtvkuSoIn4VMXAqLJ3z51pu6bgz6TGfCPcrlIbRQsBSzUmjeSBF2IxYeB0VWpkJ-JT5xgPKzFRJ3hW2FbY_brZj9M862tF_AsIkH5-eDwz8Ly7Gv6dfPIBciACTaDuNdtunkPCyfuLXqRQ6UAdqbHJlos77ubD61ka1e_QEjeoaA-PyDVpEGMpAjTPAGGbY0ArpxGI4vBeNFiKA_f4nvVCCg8c2dkQANvZKMXeII7MRJBAOmORlEsgsh9Q6kAoVv1Ic_hu1cBFhCoCCWEQHkwpGyvkK2JZEP6b1S4elF7aCE1YvYZq9EZwfljkOXB4mv9Vt8xXOC3i-sm2nzHMXKtyeK_ZpihpYXavci2f1USJcqJ8io0Yj0nYnYSynJ8sW9gDP7dd2pcxBdZJmg2yFvG1B1qHoyCdkfYuLArBRAmZN0quHFt7QnHRlXFIy137At8jAItuFvh5p1R6nbpxd16mFvbykI38xCQm_k2gxfwvQU0eKTJpjM73vCcZ3QHFkQ78BkG15uQlWhceauLvYue6PKwEepcoI7ObY-SIRTsgU-7a96EDh6BGh4hsSLC6pxo7JwSVc5gPAsYEVCsu-eunfjgR6rCfc9TQ\" title=\"\\ud0dc\\uc591\\uad11 \\uc9c0\\ub3c4\" width=\"547\" /></a><div class=\"_Fxi\"><table class=\"_CXi\"><td><a class=\"_axi\" href=\"https://www.google.co.kr/search?client=safari&amp;rls=en&amp;ie=UTF-8&amp;oe=UTF-8&amp;q=%EC%9D%B4%EB%93%A0%EC%8A%A4%ED%86%A0%EB%A6%AC+%EC%84%9C%EC%9A%B8%ED%8A%B9%EB%B3%84%EC%8B%9C+%EA%B0%95%EB%82%A8%EA%B5%AC&amp;ludocid=18266363702753213144&amp;sa=X&amp;ved=0ahUKEwiOm4mmw_TUAhVGTLwKHQ1nAE8QvS4IIzAD\"><div class=\"_uee rllt__wrap-on-expand\">\\uc774\\ub4e0\\uc2a4\\ud1a0\\ub9ac</div><div>\\ub9ac\\ubdf0 \\uc5c6\\uc74c \\xb7 \\ud0dc\\uc591 \\uc5d0\\ub108\\uc9c0 \\uc7a5\\ube44 \\uacf5\\uae09\\uc5c5\\uccb4</div><div></div><div><span>\\uc5ed\\uc0bc\\ub3d9 834-44</span> \\xb7 02-889-9941</div></a></td><td class=\"_F7n\"><a class=\"_VWm\" href=\"https://www.google.co.kr/search?client=safari&amp;rls=en&amp;ie=UTF-8&amp;oe=UTF-8&amp;q=%EC%9D%B4%EB%93%A0%EC%8A%A4%ED%86%A0%EB%A6%AC+%EC%84%9C%EC%9A%B8%ED%8A%B9%EB%B3%84%EC%8B%9C+%EA%B0%95%EB%82%A8%EA%B5%AC&amp;ludocid=18266363702753213144&amp;sa=X&amp;ved=0ahUKEwiOm4mmw_TUAhVGTLwKHQ1nAE8Q_pABCCYwAw\"><div class=\"_hZm _lXm\"></div><div>\\ucd94\\uac00 \\uc815\\ubcf4</div></a></td></table></div><div class=\"_Fxi\"><table class=\"_CXi\"><td><a class=\"_axi\" href=\"https://www.google.co.kr/search?client=safari&amp;rls=en&amp;ie=UTF-8&amp;oe=UTF-8&amp;q=%ED%95%9C%EA%B5%AD%ED%83%9C%EC%96%91%EA%B4%91%EC%82%B0%EC%97%85%ED%98%91%ED%9A%8C+%EC%84%9C%EC%9A%B8%ED%8A%B9%EB%B3%84%EC%8B%9C+%EA%B0%95%EB%82%A8%EA%B5%AC&amp;ludocid=12026674552428031348&amp;sa=X&amp;ved=0ahUKEwiOm4mmw_TUAhVGTLwKHQ1nAE8QvS4IKDAE\"><div class=\"_uee rllt__wrap-on-expand\">\\ud55c\\uad6d\\ud0dc\\uc591\\uad11\\uc0b0\\uc5c5\\ud611\\ud68c</div><div>\\ub9ac\\ubdf0 \\uc5c6\\uc74c \\xb7 \\ud611\\ud68c \\ub610\\ub294 \\uc870\\uc9c1</div><div></div><div><span>\\ub3c4\\uace12\\ub3d9 \\ub17c\\ud604\\ub85c36\\uae38 23</span> \\xb7 02-522-1788</div></a></td><td class=\"_F7n\"><a class=\"_VWm\" href=\"https://www.google.co.kr/search?client=safari&amp;rls=en&amp;ie=UTF-8&amp;oe=UTF-8&amp;q=%ED%95%9C%EA%B5%AD%ED%83%9C%EC%96%91%EA%B4%91%EC%82%B0%EC%97%85%ED%98%91%ED%9A%8C+%EC%84%9C%EC%9A%B8%ED%8A%B9%EB%B3%84%EC%8B%9C+%EA%B0%95%EB%82%A8%EA%B5%AC&amp;ludocid=12026674552428031348&amp;sa=X&amp;ved=0ahUKEwiOm4mmw_TUAhVGTLwKHQ1nAE8Q_pABCCswBA\"><div class=\"_hZm _lXm\"></div><div>\\ucd94\\uac00 \\uc815\\ubcf4</div></a></td></table></div><div class=\"_Fxi\"><table class=\"_CXi\"><td><a class=\"_axi\" href=\"https://www.google.co.kr/search?client=safari&amp;rls=en&amp;ie=UTF-8&amp;oe=UTF-8&amp;q=%ED%83%9C%EC%96%91%EA%B4%91%EC%84%A4%EC%B9%98%EC%84%BC%ED%83%80+%EC%84%9C%EC%9A%B8%ED%8A%B9%EB%B3%84%EC%8B%9C+%EC%98%81%EB%93%B1%ED%8F%AC%EA%B5%AC&amp;ludocid=7763231055893757891&amp;sa=X&amp;ved=0ahUKEwiOm4mmw_TUAhVGTLwKHQ1nAE8QvS4ILTAF\"><div class=\"_uee rllt__wrap-on-expand\">\\ud0dc\\uc591\\uad11\\uc124\\uce58\\uc13c\\ud0c0</div><div></div><div><span>\\uc2e0\\uae38\\ub3d9</span> \\xb7 02-6713-1181</div></a></td><td class=\"_F7n\"><a class=\"_VWm\" href=\"https://www.google.co.kr/search?client=safari&amp;rls=en&amp;ie=UTF-8&amp;oe=UTF-8&amp;q=%ED%83%9C%EC%96%91%EA%B4%91%EC%84%A4%EC%B9%98%EC%84%BC%ED%83%80+%EC%84%9C%EC%9A%B8%ED%8A%B9%EB%B3%84%EC%8B%9C+%EC%98%81%EB%93%B1%ED%8F%AC%EA%B5%AC&amp;ludocid=7763231055893757891&amp;sa=X&amp;ved=0ahUKEwiOm4mmw_TUAhVGTLwKHQ1nAE8Q_pABCDAwBQ\"><div class=\"_hZm _lXm\"></div><div>\\ucd94\\uac00 \\uc815\\ubcf4</div></a></td></table></div><div><a class=\"_Tbj\" href=\"https://www.google.co.kr/search?client=safari&amp;rls=en&amp;ie=UTF-8&amp;oe=UTF-8&amp;q=%ED%83%9C%EC%96%91%EA%B4%91&amp;npsic=0&amp;rlst=f&amp;rlha=0&amp;rllag=37495678,126978848,5840&amp;sa=X&amp;ved=0ahUKEwiOm4mmw_TUAhVGTLwKHQ1nAE8QjGoIMQ\">\\uc7a5\\uc18c \\ub354\\ubcf4\\uae30</a></div></div><div class=\"g\"><h3 class=\"r\"><a href=\"https://www.google.co.kr/url?q=https://namu.wiki/w/%25ED%2583%259C%25EC%2596%2591%25EA%25B4%2591%2520%25EB%25B0%259C%25EC%25A0%2584&amp;sa=U&amp;ved=0ahUKEwiOm4mmw_TUAhVGTLwKHQ1nAE8QFggzMAY&amp;usg=AFQjCNHkCizklEPpJCc4Lo-5XBXWrfZMXw\"><b>\\ud0dc\\uc591\\uad11</b> \\ubc1c\\uc804 - \\ub098\\ubb34\\uc704\\ud0a4</a></h3><div class=\"s\"><div class=\"kv\" style=\"margin-bottom: 2px;\"><cite>https://namu.wiki/w/<b>\\ud0dc\\uc591\\uad11</b>%20\\ubc1c\\uc804</cite></div><span class=\"st\">\\uac1c\\uc694[\\ud3b8\\uc9d1] \\xb7 <b>\\ud0dc\\uc591\\uad11</b>\\uc744 \\uc774\\uc6a9\\ud55c \\ubc1c\\uc804\\ubc29\\ubc95. \\ud0dc\\uc591 \\uc5d0\\ub108\\uc9c0\\ub97c \\uc804\\uae30\\uc5d0\\ub108\\uc9c0\\ub85c \\ubcc0\\ud658\\uc2dc\\ud0a8\\ub2e4. <br />\\n<b>\\ud0dc\\uc591\\uad11</b>\\uc5d0 \\ubc18\\uc751\\ud558\\ub294 \\uc804\\uc9c0\\ubaa8\\ub4c8, \\uc989 \\ud0dc\\uc591\\uc804\\uc9c0\\ub97c \\uc0ac\\uc6a9\\ud55c\\ub2e4. \\uc8fc\\ub85c \\ud130\\ube48\\uc744 \\ub9e4\\uac1c\\ud558\\ub294 <br />\\n\\ud0dc\\uc591\\uc5f4\\xa0...</span><br /></div></div><div class=\"g\"><h3 class=\"r\"><a href=\"https://www.google.co.kr/url?q=http://www.knrec.or.kr/knrec/11/KNREC110100.asp&amp;sa=U&amp;ved=0ahUKEwiOm4mmw_TUAhVGTLwKHQ1nAE8QFgg1MAc&amp;usg=AFQjCNFr32gro0TBg_Sc2czsVWWCiy7IQw\"><b>\\ud0dc\\uc591\\uad11</b> - \\ud55c\\uad6d\\uc5d0\\ub108\\uc9c0\\uacf5\\ub2e8 \\uc2e0\\xb7\\uc7ac\\uc0dd\\uc5d0\\ub108\\uc9c0\\uc13c\\ud130</a></h3><div class=\"s\"><div class=\"kv\" style=\"margin-bottom: 2px;\"><cite>www.knrec.or.kr/knrec/11/KNREC110100.asp</cite><div class=\"_nBb\">\\u200e<div style=\"display: inline;\" tabindex=\"0\"><span class=\"_O0\"></span></div><div class=\"am-dropdown-menu\" style=\"display: none;\" tabindex=\"-1\"><ul><li class=\"_Ykb\"><a class=\"_Zkb\" href=\"https://www.google.co.kr/url?q=http://webcache.googleusercontent.com/search%3Fq%3Dcache:N0Cb7iYz7u8J:http://www.knrec.or.kr/knrec/11/KNREC110100.asp%252B%25ED%2583%259C%25EC%2596%2591%25EA%25B4%2591%26client%3Dsafari%26rls%3Den%26oe%3DUTF-8%26hl%3Dko%26ct%3Dclnk&amp;sa=U&amp;ved=0ahUKEwiOm4mmw_TUAhVGTLwKHQ1nAE8QIAg4MAc&amp;usg=AFQjCNH6Al0qD_RVoBFEHz1ZFCT-VrfqKg\">\\uc800\\uc7a5\\ub41c \\ud398\\uc774\\uc9c0</a></li><li class=\"_Ykb\"><a class=\"_Zkb\" href=\"https://www.google.co.kr/search?client=safari&amp;rls=en&amp;ie=UTF-8&amp;oe=UTF-8&amp;q=related:www.knrec.or.kr/knrec/11/KNREC110100.asp+%ED%83%9C%EC%96%91%EA%B4%91&amp;tbo=1&amp;sa=X&amp;ved=0ahUKEwiOm4mmw_TUAhVGTLwKHQ1nAE8QHwg5MAc\">\\uc720\\uc0ac\\ud55c \\ud398\\uc774\\uc9c0</a></li></ul></div></div></div><span class=\"st\"><b>\\ud0dc\\uc591\\uad11</b> \\ubc1c\\uc804\\uc740 \\ud0dc\\uc591\\uc758 \\ube5b\\uc5d0\\ub108\\uc9c0\\ub97c \\ubcc0\\ud658\\uc2dc\\ucf1c \\uc804\\uae30\\ub97c \\uc0dd\\uc0b0\\ud558\\ub294 \\ubc1c\\uc804\\uae30\\uc220 - \\ud587\\ube5b\\uc744 <br />\\n\\ubc1b\\uc73c\\uba74 \\uad11\\uc804\\ud6a8\\uacfc\\uc5d0 \\uc758\\ud574 \\uc804\\uae30\\ub97c \\ubc1c\\uc0dd\\ud558\\ub294 \\ud0dc\\uc591\\uc804\\uc9c0\\ub97c \\uc774\\uc6a9\\ud55c \\ubc1c\\uc804\\ubc29\\uc2dd; <b>\\ud0dc\\uc591\\uad11</b> \\ubc1c\\uc804<br />\\n\\xa0...</span><br /></div></div><div class=\"g\"><h3 class=\"r\"><a href=\"https://www.google.co.kr/url?q=http://www.ohmynews.com/NWS_Web/View/at_pg.aspx%3FCNTN_CD%3DA0001952762&amp;sa=U&amp;ved=0ahUKEwiOm4mmw_TUAhVGTLwKHQ1nAE8QFgg7MAg&amp;usg=AFQjCNG_clwMD9eaNauvykutV6P267RmgQ\">\\uc911\\ud559\\uc0dd\\ub3c4 \\uc548\\ub2e4\\ub294 <b>\\ud0dc\\uc591\\uad11</b> \\ubc1c\\uc804 \\ube44\\ud6a8\\uc728\\uc131, \\uc0ac\\uc2e4\\uc77c\\uae4c - \\uc624\\ub9c8\\uc774\\ub274\\uc2a4</a></h3><div class=\"s\"><div class=\"kv\" style=\"margin-bottom: 2px;\"><cite>www.ohmynews.com/NWS_Web/View/at_pg.aspx?...CD...</cite><div class=\"_nBb\">\\u200e<div style=\"display: inline;\" tabindex=\"0\"><span class=\"_O0\"></span></div><div class=\"am-dropdown-menu\" style=\"display: none;\" tabindex=\"-1\"><ul><li class=\"_Ykb\"><a class=\"_Zkb\" href=\"https://www.google.co.kr/url?q=http://webcache.googleusercontent.com/search%3Fq%3Dcache:guxqhxfdOeoJ:http://www.ohmynews.com/NWS_Web/View/at_pg.aspx%3FCNTN_CD%253DA0001952762%252B%25ED%2583%259C%25EC%2596%2591%25EA%25B4%2591%26client%3Dsafari%26rls%3Den%26oe%3DUTF-8%26hl%3Dko%26ct%3Dclnk&amp;sa=U&amp;ved=0ahUKEwiOm4mmw_TUAhVGTLwKHQ1nAE8QIAg-MAg&amp;usg=AFQjCNFIZ-6S6CbWrVb9bMz_juX1hDuLCA\">\\uc800\\uc7a5\\ub41c \\ud398\\uc774\\uc9c0</a></li><li class=\"_Ykb\"><a class=\"_Zkb\" href=\"https://www.google.co.kr/search?client=safari&amp;rls=en&amp;ie=UTF-8&amp;oe=UTF-8&amp;q=related:www.ohmynews.com/NWS_Web/View/at_pg.aspx%3FCNTN_CD%3DA0001952762+%ED%83%9C%EC%96%91%EA%B4%91&amp;tbo=1&amp;sa=X&amp;ved=0ahUKEwiOm4mmw_TUAhVGTLwKHQ1nAE8QHwg_MAg\">\\uc720\\uc0ac\\ud55c \\ud398\\uc774\\uc9c0</a></li></ul></div></div></div><span class=\"st\">2014\\ub144 2\\uc6d4 4\\uc77c <b>...</b> \\uc911\\xb7\\uace0\\ub4f1\\ud559\\uad50\\ub9cc \\ub098\\uc640\\ub3c4 \\uc548\\ub2e4\\ub294 <b>\\ud0dc\\uc591\\uad11</b>\\ubc1c\\uc804\\uc758 \\ube44\\ud6a8\\uc728\\uc131, \\uc0ac\\uc2e4\\uc77c\\uae4c\\uc694? \\ub3c5\\uc790\\ub4e4\\uc758 \\uc9c8\\ubb38<br />\\n\\uc5d0 \\uc804\\ubd81\\ub300 \\uc0b0\\ud559\\ud611\\ub825\\ub2e8 \\uc774\\uc131\\ud638 \\uad50\\uc218\\uc758 \\uae00\\ub85c \\uc751\\ub2f5\\ud560\\uae4c \\ud569\\ub2c8\\ub2e4.</span><br /></div></div><div class=\"g\"><h3 class=\"r\"><a href=\"https://www.google.co.kr/url?q=http://www.hani.co.kr/arti/science/science_general/791003.html&amp;sa=U&amp;ved=0ahUKEwiOm4mmw_TUAhVGTLwKHQ1nAE8QFghCMAk&amp;usg=AFQjCNGc6DuZQE1uY-eMZ3sU7wNz1eEIdQ\"><b>\\ud0dc\\uc591\\uad11</b>\\ubc1c\\uc804, \\uc9c4\\uc9dc \\ubcd5\\ub4e4 \\ub0a0\\uc740 \\'\\ud0dc\\uc591\\uc804\\uc9c0\\'\\uc5d0 \\ub2ec\\ub838\\ub2e4 : \\uacfc\\ud559\\uc77c\\ubc18 : \\uacfc\\ud559 ...</a></h3><div class=\"s\"><div class=\"kv\" style=\"margin-bottom: 2px;\"><cite>www.hani.co.kr/arti/science/science_general/791003.html</cite><div class=\"_nBb\">\\u200e<div style=\"display: inline;\" tabindex=\"0\"><span class=\"_O0\"></span></div><div class=\"am-dropdown-menu\" style=\"display: none;\" tabindex=\"-1\"><ul><li class=\"_Ykb\"><a class=\"_Zkb\" href=\"https://www.google.co.kr/url?q=http://webcache.googleusercontent.com/search%3Fq%3Dcache:RYcq-xgcSysJ:http://www.hani.co.kr/arti/science/science_general/791003.html%252B%25ED%2583%259C%25EC%2596%2591%25EA%25B4%2591%26client%3Dsafari%26rls%3Den%26oe%3DUTF-8%26hl%3Dko%26ct%3Dclnk&amp;sa=U&amp;ved=0ahUKEwiOm4mmw_TUAhVGTLwKHQ1nAE8QIAhFMAk&amp;usg=AFQjCNGMUTTwfyIR6W_X8Y2j0Hp1u7dxJw\">\\uc800\\uc7a5\\ub41c \\ud398\\uc774\\uc9c0</a></li></ul></div></div></div><span class=\"st\">2017\\ub144 4\\uc6d4 17\\uc77c <b>...</b> [\\ubbf8\\ub798] \\'\\ubc31\\uac00\\uc7c1\\uba85\\' \\ud0dc\\uc591\\uc804\\uc9c0 \\uac1c\\ubc1c \\uacbd\\uc7c1 <b>\\ud0dc\\uc591\\uad11</b>\\ubc1c\\uc804 \\uc6a9\\ub7c9\\uc740 \\'\\uc6d0\\uc804 228\\uae30\\' \\uc804\\uae30\\uacf5\\uae09 \\ube44\\uc911<br />\\n\\uc740 \\uc544\\uc9c1 1% \\uadf8\\uccd0 \\u201c2020\\ub144\\ub300 \\ucd08\\ubc18 \\ubc1c\\uc804\\ub2e8\\uac00 \\uc5ed\\uc804\\u201d \\uc9c0\\uad6c\\uc5d0 \\ub3c4\\ucc29\\xa0...</span><br /></div></div><div class=\"g\"><h3 class=\"r\"><a href=\"https://www.google.co.kr/url?q=http://www.lgblog.co.kr/lg-story/lg-product/61058&amp;sa=U&amp;ved=0ahUKEwiOm4mmw_TUAhVGTLwKHQ1nAE8QFghIMAo&amp;usg=AFQjCNHfiwbHCk243zwYn66HIcYdUsgAiA\">\\uc774\\uc820 \\uc9d1\\uc5d0\\uc11c \\uc9c1\\uc811 \\uc804\\uae30\\ub97c \\ub9cc\\ub4e0\\ub2e4! \\uac00\\uc815\\uc6a9 <b>\\ud0dc\\uc591\\uad11</b> \\ubc1c\\uc804 \\uc2dc\\uc2a4\\ud15c \\u2013 LG \\uacf5\\uc2dd ...</a></h3><div class=\"s\"><div class=\"kv\" style=\"margin-bottom: 2px;\"><cite>www.lgblog.co.kr/lg-story/lg-product/61058</cite><div class=\"_nBb\">\\u200e<div style=\"display: inline;\" tabindex=\"0\"><span class=\"_O0\"></span></div><div class=\"am-dropdown-menu\" style=\"display: none;\" tabindex=\"-1\"><ul><li class=\"_Ykb\"><a class=\"_Zkb\" href=\"https://www.google.co.kr/url?q=http://webcache.googleusercontent.com/search%3Fq%3Dcache:k2XjLlNhFA4J:http://www.lgblog.co.kr/lg-story/lg-product/61058%252B%25ED%2583%259C%25EC%2596%2591%25EA%25B4%2591%26client%3Dsafari%26rls%3Den%26oe%3DUTF-8%26hl%3Dko%26ct%3Dclnk&amp;sa=U&amp;ved=0ahUKEwiOm4mmw_TUAhVGTLwKHQ1nAE8QIAhLMAo&amp;usg=AFQjCNEvU1E-Ab1zrtNKQEeyjMssQ1S0aw\">\\uc800\\uc7a5\\ub41c \\ud398\\uc774\\uc9c0</a></li></ul></div></div></div><span class=\"st\">2016\\ub144 8\\uc6d4 31\\uc77c <b>...</b> \\uba3c\\uc800 \\uac00\\uc815\\uc6a9 <b>\\ud0dc\\uc591\\uad11</b> \\ubc1c\\uc804 \\uc2dc\\uc2a4\\ud15c\\uc758 \\uac00\\uc7a5 \\ud070 \\uc7a5\\uc810\\uc740 \\ubc14\\ub85c \\uc804\\uae30\\uc694\\uae08\\uc744 \\uc904\\uc77c \\uc218 \\uc788\\ub2e4\\ub294 <br />\\n\\uc810\\uc785\\ub2c8\\ub2e4. <b>\\ud0dc\\uc591\\uad11</b> 3kW \\uc6a9\\ub7c9\\uc744 \\uac00\\uc815\\uc5d0 \\uc124\\uce58\\ud588\\uc744 \\ub54c \\ud55c \\ub2ec\\uac04 \\uc0dd\\uc131\\xa0...</span><br /></div></div><div class=\"g\"><h3 class=\"r\"><a href=\"https://www.google.co.kr/url?q=http://biz.chosun.com/site/data/html_dir/2016/12/26/2016122600003.html&amp;sa=U&amp;ved=0ahUKEwiOm4mmw_TUAhVGTLwKHQ1nAE8QFghOMAs&amp;usg=AFQjCNFNsbQO82ykY3WOYYTqqo4ooztpow\"><b>\\ud0dc\\uc591\\uad11</b>, 4\\ub144 \\ub4a4\\uba74 \\uc11d\\ud0c4\\ubcf4\\ub2e4 \\'\\ubc1c\\uc804 \\ube44\\uc6a9\\' \\uc2f8\\uc838\\uc694 - Chosunbiz - \\ud504\\ub9ac\\ubbf8\\uc5c4 ...</a></h3><div class=\"s\"><div class=\"kv\" style=\"margin-bottom: 2px;\"><cite>biz.chosun.com/site/data/html_dir/.../2016122600003.html</cite><div class=\"_nBb\">\\u200e<div style=\"display: inline;\" tabindex=\"0\"><span class=\"_O0\"></span></div><div class=\"am-dropdown-menu\" style=\"display: none;\" tabindex=\"-1\"><ul><li class=\"_Ykb\"><a class=\"_Zkb\" href=\"https://www.google.co.kr/url?q=http://webcache.googleusercontent.com/search%3Fq%3Dcache:nb0T4pIBi5oJ:http://biz.chosun.com/site/data/html_dir/2016/12/26/2016122600003.html%252B%25ED%2583%259C%25EC%2596%2591%25EA%25B4%2591%26client%3Dsafari%26rls%3Den%26oe%3DUTF-8%26hl%3Dko%26ct%3Dclnk&amp;sa=U&amp;ved=0ahUKEwiOm4mmw_TUAhVGTLwKHQ1nAE8QIAhRMAs&amp;usg=AFQjCNGSr5t9rACQhCmKqu7xJgtf_fxrWg\">\\uc800\\uc7a5\\ub41c \\ud398\\uc774\\uc9c0</a></li></ul></div></div></div><span class=\"st\">2016\\ub144 12\\uc6d4 26\\uc77c <b>...</b> \\uc62c\\ud574 \\uc5d0\\ub108\\uc9c0 \\uc5c5\\uacc4\\uc5d0\\uc11c \\uac00\\uc7a5 \\uc8fc\\ubaa9\\uc744 \\ubc1b\\uc740 \\ub274\\uc2a4 \\uc911 \\ud558\\ub098\\ub85c \\uc804\\uae30\\ucc28 \\uc5c5\\uccb4 \\ud14c\\uc2ac\\ub77c\\uc640 <b>\\ud0dc\\uc591</b><br />\\n<b>\\uad11</b> \\uae30\\uc5c5 \\uc194\\ub77c\\uc2dc\\ud2f0\\uc758 \\ud569\\ubcd1\\uc744 \\uaf3d\\uc744 \\uc218 \\uc788\\uc2b5\\ub2c8\\ub2e4. \\uc601\\ud654 \\uc544\\uc774\\uc5b8\\ub9e8\\uc758 ..</span><br /></div></div><div class=\"g\"><h3 class=\"r\"><a href=\"https://www.google.co.kr/url?q=https://ko.wikipedia.org/wiki/%25ED%2583%259C%25EC%2596%2591_%25EC%25A0%2584%25EC%25A7%2580&amp;sa=U&amp;ved=0ahUKEwiOm4mmw_TUAhVGTLwKHQ1nAE8QFghUMAw&amp;usg=AFQjCNFbtwo-Vk8P8JsQv6IqqmDqo_uDZA\"><b>\\ud0dc\\uc591</b> \\uc804\\uc9c0 - \\uc704\\ud0a4\\ubc31\\uacfc, \\uc6b0\\ub9ac \\ubaa8\\ub450\\uc758 \\ubc31\\uacfc\\uc0ac\\uc804</a></h3><div class=\"s\"><div class=\"kv\" style=\"margin-bottom: 2px;\"><cite>https://ko.wikipedia.org/wiki/<b>\\ud0dc\\uc591</b>_\\uc804\\uc9c0</cite><div class=\"_nBb\">\\u200e<div style=\"display: inline;\" tabindex=\"0\"><span class=\"_O0\"></span></div><div class=\"am-dropdown-menu\" style=\"display: none;\" tabindex=\"-1\"><ul><li class=\"_Ykb\"><a class=\"_Zkb\" href=\"https://www.google.co.kr/url?q=http://webcache.googleusercontent.com/search%3Fq%3Dcache:msnyUAjeqOAJ:https://ko.wikipedia.org/wiki/%2525ED%252583%25259C%2525EC%252596%252591_%2525EC%2525A0%252584%2525EC%2525A7%252580%252B%25ED%2583%259C%25EC%2596%2591%25EA%25B4%2591%26client%3Dsafari%26rls%3Den%26oe%3DUTF-8%26hl%3Dko%26ct%3Dclnk&amp;sa=U&amp;ved=0ahUKEwiOm4mmw_TUAhVGTLwKHQ1nAE8QIAhXMAw&amp;usg=AFQjCNHO5RKyz8wgS0WIlomAL8MuCqwX9A\">\\uc800\\uc7a5\\ub41c \\ud398\\uc774\\uc9c0</a></li><li class=\"_Ykb\"><a class=\"_Zkb\" href=\"https://www.google.co.kr/search?client=safari&amp;rls=en&amp;ie=UTF-8&amp;oe=UTF-8&amp;q=related:https://ko.wikipedia.org/wiki/%25ED%2583%259C%25EC%2596%2591_%25EC%25A0%2584%25EC%25A7%2580+%ED%83%9C%EC%96%91%EA%B4%91&amp;tbo=1&amp;sa=X&amp;ved=0ahUKEwiOm4mmw_TUAhVGTLwKHQ1nAE8QHwhYMAw\">\\uc720\\uc0ac\\ud55c \\ud398\\uc774\\uc9c0</a></li></ul></div></div></div><span class=\"st\"><b>\\ud0dc\\uc591</b> \\uc804\\uc9c0(\\u592a\\u967d\\u96fb\\u6c60) \\ub610\\ub294 \\uad11\\uc804\\uc9c0\\ub294 <b>\\ud0dc\\uc591</b> \\uc5d0\\ub108\\uc9c0\\ub97c \\uc804\\uae30 \\uc5d0\\ub108\\uc9c0\\ub85c \\ubcc0\\ud658\\ud560 \\uc218 \\uc788\\ub294 <br />\\n\\uc7a5\\uce58\\ub97c \\ub9d0\\ud55c\\ub2e4. PN \\uc811\\ud569\\uba74\\uc744 \\uac00\\uc9c0\\ub294 \\ubc18\\ub3c4\\uccb4 \\uc811\\ud569 \\uc601\\uc5ed\\uc5d0 \\uae08\\uc9c0\\ub300\\ud3ed\\ubcf4\\ub2e4 \\ud070 \\uc5d0\\ub108\\uc9c0\\uc758<br />\\n\\xa0...</span><br /></div></div><div class=\"g\"><h3 class=\"r\"><a href=\"https://www.google.co.kr/url?q=https://ko.wikipedia.org/wiki/%25ED%2583%259C%25EC%2596%2591%25EA%25B4%2591_%25EB%25B0%259C%25EC%25A0%2584&amp;sa=U&amp;ved=0ahUKEwiOm4mmw_TUAhVGTLwKHQ1nAE8QFghaMA0&amp;usg=AFQjCNHFM9L72JL8-YEU_jLFpWHrz0jQQQ\"><b>\\ud0dc\\uc591\\uad11</b> \\ubc1c\\uc804 - \\uc704\\ud0a4\\ubc31\\uacfc, \\uc6b0\\ub9ac \\ubaa8\\ub450\\uc758 \\ubc31\\uacfc\\uc0ac\\uc804</a></h3><div class=\"s\"><div class=\"kv\" style=\"margin-bottom: 2px;\"><cite>https://ko.wikipedia.org/wiki/<b>\\ud0dc\\uc591\\uad11</b>_\\ubc1c\\uc804</cite><div class=\"_nBb\">\\u200e<div style=\"display: inline;\" tabindex=\"0\"><span class=\"_O0\"></span></div><div class=\"am-dropdown-menu\" style=\"display: none;\" tabindex=\"-1\"><ul><li class=\"_Ykb\"><a class=\"_Zkb\" href=\"https://www.google.co.kr/url?q=http://webcache.googleusercontent.com/search%3Fq%3Dcache:DVsPpuCfYB4J:https://ko.wikipedia.org/wiki/%2525ED%252583%25259C%2525EC%252596%252591%2525EA%2525B4%252591_%2525EB%2525B0%25259C%2525EC%2525A0%252584%252B%25ED%2583%259C%25EC%2596%2591%25EA%25B4%2591%26client%3Dsafari%26rls%3Den%26oe%3DUTF-8%26hl%3Dko%26ct%3Dclnk&amp;sa=U&amp;ved=0ahUKEwiOm4mmw_TUAhVGTLwKHQ1nAE8QIAhdMA0&amp;usg=AFQjCNEJBaM96q9nLZqjwrjhyFE_Jp_F4g\">\\uc800\\uc7a5\\ub41c \\ud398\\uc774\\uc9c0</a></li><li class=\"_Ykb\"><a class=\"_Zkb\" href=\"https://www.google.co.kr/search?client=safari&amp;rls=en&amp;ie=UTF-8&amp;oe=UTF-8&amp;q=related:https://ko.wikipedia.org/wiki/%25ED%2583%259C%25EC%2596%2591%25EA%25B4%2591_%25EB%25B0%259C%25EC%25A0%2584+%ED%83%9C%EC%96%91%EA%B4%91&amp;tbo=1&amp;sa=X&amp;ved=0ahUKEwiOm4mmw_TUAhVGTLwKHQ1nAE8QHwheMA0\">\\uc720\\uc0ac\\ud55c \\ud398\\uc774\\uc9c0</a></li></ul></div></div></div><span class=\"st\"><b>\\ud0dc\\uc591\\uad11</b> \\ubc1c\\uc804 (\\u592a\\u967d\\u5149\\u767c\\u96fb)\\uc740 \\ud587\\ube5b\\uc744 \\uc9c1\\ub958 \\uc804\\uae30\\ub85c \\ubc14\\uafb8\\uc5b4 \\uc804\\ub825\\uc744 \\uc0dd\\uc0b0\\ud558\\ub294 \\ubc1c\\uc804 \\ubc29\\ubc95<br />\\n\\uc774\\ub2e4. <b>\\ud0dc\\uc591\\uad11</b> \\ubc1c\\uc804\\uc740 \\uc5ec\\ub7ec\\uac1c\\uc758 \\ud0dc\\uc591 \\uc804\\uc9c0\\ub4e4\\uc774 \\ubd99\\uc5b4\\uc788\\ub294 <b>\\ud0dc\\uc591\\uad11</b> \\ud328\\ub110\\uc744 \\uc774\\uc6a9\\ud55c\\ub2e4.</span><br /></div></div><div class=\"g\"><h3 class=\"r\"><a href=\"https://www.google.co.kr/url?q=https://www.q-cells.com/ko/index/products/solar-panels&amp;sa=U&amp;ved=0ahUKEwiOm4mmw_TUAhVGTLwKHQ1nAE8QFghgMA4&amp;usg=AFQjCNHYBxJpzERvwxh7FqAw1rcFyRBtGA\">\\ud55c\\ud654\\ud050\\uc140 \\uc81c\\ud488 \\ud648\\ud398\\uc774\\uc9c0 - <b>\\ud0dc\\uc591\\uad11</b> \\ubaa8\\ub4c8 - Q-Cells</a></h3><div class=\"s\"><div class=\"kv\" style=\"margin-bottom: 2px;\"><cite>https://www.q-cells.com/ko/index/products/solar-panels</cite><div class=\"_nBb\">\\u200e<div style=\"display: inline;\" tabindex=\"0\"><span class=\"_O0\"></span></div><div class=\"am-dropdown-menu\" style=\"display: none;\" tabindex=\"-1\"><ul><li class=\"_Ykb\"><a class=\"_Zkb\" href=\"https://www.google.co.kr/url?q=http://webcache.googleusercontent.com/search%3Fq%3Dcache:1u9w7ygyJ50J:https://www.q-cells.com/ko/index/products/solar-panels%252B%25ED%2583%259C%25EC%2596%2591%25EA%25B4%2591%26client%3Dsafari%26rls%3Den%26oe%3DUTF-8%26hl%3Dko%26ct%3Dclnk&amp;sa=U&amp;ved=0ahUKEwiOm4mmw_TUAhVGTLwKHQ1nAE8QIAhjMA4&amp;usg=AFQjCNFAmM64Brll6o06DpFrKd3C-AOndQ\">\\uc800\\uc7a5\\ub41c \\ud398\\uc774\\uc9c0</a></li></ul></div></div></div><span class=\"st\">\\ud050\\uc140(Q CELLS)\\uc758 4\\uc138\\ub300 <b>\\ud0dc\\uc591\\uad11</b> \\ubaa8\\ub4c8\\uc740 \\ubaa8\\ub4e0 \\ubc94\\uc704\\uc5d0\\uc11c \\ucd5c\\uc801\\ud654\\ub41c \\ub2f9\\uc2e0\\uc758 <b>\\ud0dc\\uc591\\uad11</b> <br />\\n\\uc194\\ub8e8\\uc158\\uc785\\ub2c8\\ub2e4. Q.PLUS BFR-G4.1\\uc740 \\ub2f9\\uc0ac\\uc758 \\ubca0\\uc2a4\\ud2b8 \\uc140\\ub7ec\\uc778 Q.PRO\\uc758 \\ub4a4\\ub97c \\uc787\\ub294 <br />\\n\\uc81c\\ud488\\xa0...</span><br /></div></div></ol></div></div></div><div style=\"clear: both; margin-bottom: 17px; overflow: hidden;\"><div style=\"font-size: 16px; padding: 0 8px 1px;\"><b>\\ud0dc\\uc591\\uad11</b> \\uad00\\ub828 \\uac80\\uc0c9\\uc5b4</div><table border=\"0\" cellpadding=\"0\" cellspacing=\"0\"><tr><td valign=\"top\"><p class=\"_Bmc\" style=\"margin: 3px 8px;\"><a href=\"https://www.google.co.kr/search?client=safari&amp;rls=en&amp;ie=UTF-8&amp;oe=UTF-8&amp;q=%ED%83%9C%EC%96%91%EA%B4%91%EB%B0%9C%EC%A0%84+%EC%84%A4%EC%B9%98%EB%B9%84%EC%9A%A9&amp;sa=X&amp;ved=0ahUKEwiOm4mmw_TUAhVGTLwKHQ1nAE8Q1QIIZigA\">\\ud0dc\\uc591\\uad11\\ubc1c\\uc804 \\uc124\\uce58\\ube44\\uc6a9</a></p></td><td style=\"padding-left: 10px;\" valign=\"top\"><p class=\"_Bmc\" style=\"margin: 3px 8px;\"><a href=\"https://www.google.co.kr/search?client=safari&amp;rls=en&amp;ie=UTF-8&amp;oe=UTF-8&amp;q=%ED%83%9C%EC%96%91%EA%B4%91+%EB%B0%9C%EC%A0%84%EB%8B%A8%EA%B0%80&amp;sa=X&amp;ved=0ahUKEwiOm4mmw_TUAhVGTLwKHQ1nAE8Q1QIIZygB\">\\ud0dc\\uc591\\uad11 \\ubc1c\\uc804\\ub2e8\\uac00</a></p></td></tr><tr><td valign=\"top\"><p class=\"_Bmc\" style=\"margin: 3px 8px;\"><a href=\"https://www.google.co.kr/search?client=safari&amp;rls=en&amp;ie=UTF-8&amp;oe=UTF-8&amp;q=%ED%83%9C%EC%96%91%EA%B4%91%EB%B0%9C%EC%A0%84+%ED%9A%A8%EC%9C%A8&amp;sa=X&amp;ved=0ahUKEwiOm4mmw_TUAhVGTLwKHQ1nAE8Q1QIIaCgC\">\\ud0dc\\uc591\\uad11\\ubc1c\\uc804 \\ud6a8\\uc728</a></p></td><td style=\"padding-left: 10px;\" valign=\"top\"><p class=\"_Bmc\" style=\"margin: 3px 8px;\"><a href=\"https://www.google.co.kr/search?client=safari&amp;rls=en&amp;ie=UTF-8&amp;oe=UTF-8&amp;q=%ED%83%9C%EC%96%91%EA%B4%91%EB%B0%9C%EC%A0%84+pdf&amp;sa=X&amp;ved=0ahUKEwiOm4mmw_TUAhVGTLwKHQ1nAE8Q1QIIaSgD\">\\ud0dc\\uc591\\uad11\\ubc1c\\uc804 pdf</a></p></td></tr><tr><td valign=\"top\"><p class=\"_Bmc\" style=\"margin: 3px 8px;\"><a href=\"https://www.google.co.kr/search?client=safari&amp;rls=en&amp;ie=UTF-8&amp;oe=UTF-8&amp;q=%ED%83%9C%EC%96%91%EA%B4%91%EB%B0%9C%EC%A0%84+%EC%9B%90%EB%A6%AC&amp;sa=X&amp;ved=0ahUKEwiOm4mmw_TUAhVGTLwKHQ1nAE8Q1QIIaigE\">\\ud0dc\\uc591\\uad11\\ubc1c\\uc804 \\uc6d0\\ub9ac</a></p></td><td style=\"padding-left: 10px;\" valign=\"top\"><p class=\"_Bmc\" style=\"margin: 3px 8px;\"><a href=\"https://www.google.co.kr/search?client=safari&amp;rls=en&amp;ie=UTF-8&amp;oe=UTF-8&amp;q=%ED%83%9C%EC%96%91%EA%B4%91%EB%B0%9C%EC%A0%84%EC%86%8C+%EC%84%A4%EC%B9%98%EB%B9%84%EC%9A%A9&amp;sa=X&amp;ved=0ahUKEwiOm4mmw_TUAhVGTLwKHQ1nAE8Q1QIIaygF\">\\ud0dc\\uc591\\uad11\\ubc1c\\uc804\\uc18c \\uc124\\uce58\\ube44\\uc6a9</a></p></td></tr><tr><td valign=\"top\"><p class=\"_Bmc\" style=\"margin: 3px 8px;\"><a href=\"https://www.google.co.kr/search?client=safari&amp;rls=en&amp;ie=UTF-8&amp;oe=UTF-8&amp;q=%ED%83%9C%EC%96%91%EA%B4%91%EB%B0%9C%EC%A0%84%EC%82%AC%EC%97%85&amp;sa=X&amp;ved=0ahUKEwiOm4mmw_TUAhVGTLwKHQ1nAE8Q1QIIbCgG\">\\ud0dc\\uc591\\uad11\\ubc1c\\uc804\\uc0ac\\uc5c5</a></p></td><td style=\"padding-left: 10px;\" valign=\"top\"><p class=\"_Bmc\" style=\"margin: 3px 8px;\"><a href=\"https://www.google.co.kr/search?client=safari&amp;rls=en&amp;ie=UTF-8&amp;oe=UTF-8&amp;q=%ED%83%9C%EC%96%91+%EA%B4%91+%EB%B0%9C%EC%A0%84+%EC%8B%9C%EC%8A%A4%ED%85%9C&amp;sa=X&amp;ved=0ahUKEwiOm4mmw_TUAhVGTLwKHQ1nAE8Q1QIIbSgH\">\\ud0dc\\uc591 \\uad11 \\ubc1c\\uc804 \\uc2dc\\uc2a4\\ud15c</a></p></td></tr><tr><td valign=\"top\"><p class=\"_Bmc\" style=\"margin: 3px 8px;\"><a href=\"https://www.google.co.kr/search?client=safari&amp;rls=en&amp;ie=UTF-8&amp;oe=UTF-8&amp;q=%ED%83%9C%EC%96%91%EA%B4%91%EB%B0%9C%EC%A0%84%EC%82%AC%EC%97%85%EC%A0%84%EB%A7%9D&amp;sa=X&amp;ved=0ahUKEwiOm4mmw_TUAhVGTLwKHQ1nAE8Q1QIIbigI\">\\ud0dc\\uc591\\uad11\\ubc1c\\uc804\\uc0ac\\uc5c5\\uc804\\ub9dd</a></p></td><td style=\"padding-left: 10px;\" valign=\"top\"><p class=\"_Bmc\" style=\"margin: 3px 8px;\"><a href=\"https://www.google.co.kr/search?client=safari&amp;rls=en&amp;ie=UTF-8&amp;oe=UTF-8&amp;q=%ED%83%9C%EC%96%91+%EA%B4%91+%EB%B0%9C%EC%A0%84+ppt&amp;sa=X&amp;ved=0ahUKEwiOm4mmw_TUAhVGTLwKHQ1nAE8Q1QIIbygJ\">\\ud0dc\\uc591 \\uad11 \\ubc1c\\uc804 ppt</a></p></td></tr></table></div></div><div id=\"foot\"><table align=\"center\" border=\"0\" cellpadding=\"0\" cellspacing=\"0\" id=\"nav\"><tr valign=\"top\"><td align=\"left\" class=\"b\"><span class=\"csb\"></span><b></b></td><td><span class=\"csb\"></span><b>1</b></td><td><a class=\"fl\" href=\"https://www.google.co.kr/search?q=%ED%83%9C%EC%96%91%EA%B4%91&amp;client=safari&amp;rls=en&amp;ie=UTF-8&amp;oe=UTF-8&amp;prmd=ivnslp&amp;ei=WBteWY6PG8aY8QWNzoH4BA&amp;start=10&amp;sa=N\"><span class=\"csb\"></span>2</a></td><td><a class=\"fl\" href=\"https://www.google.co.kr/search?q=%ED%83%9C%EC%96%91%EA%B4%91&amp;client=safari&amp;rls=en&amp;ie=UTF-8&amp;oe=UTF-8&amp;prmd=ivnslp&amp;ei=WBteWY6PG8aY8QWNzoH4BA&amp;start=20&amp;sa=N\"><span class=\"csb\"></span>3</a></td><td><a class=\"fl\" href=\"https://www.google.co.kr/search?q=%ED%83%9C%EC%96%91%EA%B4%91&amp;client=safari&amp;rls=en&amp;ie=UTF-8&amp;oe=UTF-8&amp;prmd=ivnslp&amp;ei=WBteWY6PG8aY8QWNzoH4BA&amp;start=30&amp;sa=N\"><span class=\"csb\"></span>4</a></td><td><a class=\"fl\" href=\"https://www.google.co.kr/search?q=%ED%83%9C%EC%96%91%EA%B4%91&amp;client=safari&amp;rls=en&amp;ie=UTF-8&amp;oe=UTF-8&amp;prmd=ivnslp&amp;ei=WBteWY6PG8aY8QWNzoH4BA&amp;start=40&amp;sa=N\"><span class=\"csb\"></span>5</a></td><td><a class=\"fl\" href=\"https://www.google.co.kr/search?q=%ED%83%9C%EC%96%91%EA%B4%91&amp;client=safari&amp;rls=en&amp;ie=UTF-8&amp;oe=UTF-8&amp;prmd=ivnslp&amp;ei=WBteWY6PG8aY8QWNzoH4BA&amp;start=50&amp;sa=N\"><span class=\"csb\"></span>6</a></td><td><a class=\"fl\" href=\"https://www.google.co.kr/search?q=%ED%83%9C%EC%96%91%EA%B4%91&amp;client=safari&amp;rls=en&amp;ie=UTF-8&amp;oe=UTF-8&amp;prmd=ivnslp&amp;ei=WBteWY6PG8aY8QWNzoH4BA&amp;start=60&amp;sa=N\"><span class=\"csb\"></span>7</a></td><td><a class=\"fl\" href=\"https://www.google.co.kr/search?q=%ED%83%9C%EC%96%91%EA%B4%91&amp;client=safari&amp;rls=en&amp;ie=UTF-8&amp;oe=UTF-8&amp;prmd=ivnslp&amp;ei=WBteWY6PG8aY8QWNzoH4BA&amp;start=70&amp;sa=N\"><span class=\"csb\"></span>8</a></td><td><a class=\"fl\" href=\"https://www.google.co.kr/search?q=%ED%83%9C%EC%96%91%EA%B4%91&amp;client=safari&amp;rls=en&amp;ie=UTF-8&amp;oe=UTF-8&amp;prmd=ivnslp&amp;ei=WBteWY6PG8aY8QWNzoH4BA&amp;start=80&amp;sa=N\"><span class=\"csb\"></span>9</a></td><td><a class=\"fl\" href=\"https://www.google.co.kr/search?q=%ED%83%9C%EC%96%91%EA%B4%91&amp;client=safari&amp;rls=en&amp;ie=UTF-8&amp;oe=UTF-8&amp;prmd=ivnslp&amp;ei=WBteWY6PG8aY8QWNzoH4BA&amp;start=90&amp;sa=N\"><span class=\"csb\"></span>10</a></td><td class=\"b\" style=\"text-align: left;\"><a class=\"fl\" href=\"https://www.google.co.kr/search?q=%ED%83%9C%EC%96%91%EA%B4%91&amp;client=safari&amp;rls=en&amp;ie=UTF-8&amp;oe=UTF-8&amp;prmd=ivnslp&amp;ei=WBteWY6PG8aY8QWNzoH4BA&amp;start=10&amp;sa=N\" style=\"text-align: left;\"><span class=\"csb\"></span><span style=\"display: block; margin-left: 53px;\">\\ub2e4\\uc74c</span></a></td></tr></table><p class=\"_cD\" id=\"bfl\" style=\"margin: 19px 0 0; text-align: center;\"><a href=\"https://www.google.co.kr/advanced_search?q=%ED%83%9C%EC%96%91%EA%B4%91&amp;client=safari&amp;rls=en&amp;ie=UTF-8&amp;oe=UTF-8&amp;prmd=ivnslp\">\\uace0\\uae09\\uac80\\uc0c9</a><a href=\"https://www.google.co.kr/support/websearch/bin/answer.py?answer=134479&amp;hl=ko\">\\uac80\\uc0c9 \\ub3c4\\uc6c0\\ub9d0</a> <a href=\"https://www.google.co.kr/tools/feedback/survey/html?productId=196&amp;query=%ED%83%9C%EC%96%91%EA%B4%91&amp;hl=ko\">\\uc758\\uacac \\ubcf4\\ub0b4\\uae30</a></p><div class=\"_cD\" id=\"fll\" style=\"margin: 19px auto 19px auto; text-align: center;\"><a href=\"https://www.google.co.kr/\">Google\\xa0\\ud648</a> <a href=\"https://www.google.co.kr/intl/ko/ads\">Google \\uad11\\uace0 \\ud504\\ub85c\\uadf8\\ub7a8</a> <a href=\"https://www.google.co.kr/intl/ko/policies/privacy/\">\\uac1c\\uc778\\uc815\\ubcf4\\ucc98\\ub9ac\\ubc29\\uce68</a> <a href=\"https://www.google.co.kr/intl/ko/policies/terms/\">\\uc57d\\uad00</a> <a href=\"https://www.google.co.kr/intl/ko/about.html\">Google \\uc815\\ubcf4</a></div></div></td><td id=\"rhs_block\" valign=\"top\"></td></tr></tbody></table>&amp;&amp;&amp;&amp;&amp;&amp;&amp;&amp;&amp;&amp;&amp;&amp;'},\n",
       " 'headers': {'alt-svc': 'quic=\":443\"; ma=2592000; v=\"39,38,37,36,35\"',\n",
       "  'cache-control': 'private, max-age=0',\n",
       "  'connection': 'close',\n",
       "  'content-encoding': 'gzip',\n",
       "  'content-type': 'text/html; charset=UTF-8',\n",
       "  'date': 'Thu, 06 Jul 2017 11:13:28 GMT',\n",
       "  'expires': '-1',\n",
       "  'p3p': 'CP=\"This is not a P3P policy! See https://www.google.com/support/accounts/answer/151657?hl=en for more info.\"',\n",
       "  'server': 'gws',\n",
       "  'set-cookie': 'NID=107=FykO8QJ8ftztGGbEUpItMuMR9_Q-MmwoPWeZGKQT-mruTj1H_LbZb3O-jBpz0V6cofk-_P4HeOHz_Ruiq9z-nQPv4x9J9H396vdBOs8202dSwJexgYXrR74-towyt2L3; expires=Fri, 05-Jan-2018 11:13:28 GMT; path=/; domain=.google.co.kr; HttpOnly',\n",
       "  'transfer-encoding': 'chunked',\n",
       "  'x-frame-options': 'SAMEORIGIN',\n",
       "  'x-xss-protection': '1; mode=block'},\n",
       " 'href': u'https://www.google.co.kr/search?client=safari&rls=en&q=%ED%83%9C%EC%96%91%EA%B4%91&ie=UTF-8&oe=UTF-8&gfe_rd=cr&ei=XgleWf7eKLLK8gfRlK24Cg#q=%ED%8B%B0%EB%B3%BC%EB%A6%AC',\n",
       " 'namespaces': {},\n",
       " 'status': 200,\n",
       " 'version': u''}"
      ]
     },
     "execution_count": 7,
     "metadata": {},
     "output_type": "execute_result"
    }
   ],
   "source": [
    "carnews"
   ]
  },
  {
   "cell_type": "code",
   "execution_count": 14,
   "metadata": {
    "collapsed": true
   },
   "outputs": [],
   "source": [
    "cnewses = []\n",
    "for news in carnews.entries[:5]:\n",
    "    news.uid = news.id.split('cluster=')[-1]\n",
    "    news.title = news.title\n",
    "    print news.uid\n",
    "    # news.published = datetime.fromtimestamp(mktime(news.published_parsed))\n",
    "    # print news.published\n",
    "    try:\n",
    "        news.published_parsed_2 = datetime.strptime(news.published, \"%a, %d %b %Y %H:%M:%S GMT\")\n",
    "    except ValueError:\n",
    "        news.published_parsed_2 = None\n",
    "        # print news.published\n",
    "        cnewses.append(news)"
   ]
  },
  {
   "cell_type": "code",
   "execution_count": 9,
   "metadata": {},
   "outputs": [
    {
     "data": {
      "text/plain": [
       "[]"
      ]
     },
     "execution_count": 9,
     "metadata": {},
     "output_type": "execute_result"
    }
   ],
   "source": [
    "cnewses"
   ]
  },
  {
   "cell_type": "code",
   "execution_count": 11,
   "metadata": {},
   "outputs": [
    {
     "name": "stdout",
     "output_type": "stream",
     "text": [
      "asdf\n",
      "asdf\n",
      "asdf\n",
      "asdf\n",
      "asdf\n",
      "asdf\n",
      "asdf\n",
      "asdf\n",
      "asdf\n",
      "asdf\n",
      "asdf\n",
      "asdf\n",
      "asdf\n",
      "asdf\n",
      "asdf\n",
      "asdf\n",
      "asdf\n",
      "asdf\n",
      "asdf\n",
      "asdf\n",
      "asdf\n",
      "asdf\n",
      "asdf\n",
      "asdf\n",
      "asdf\n",
      "asdf\n",
      "asdf\n",
      "asdf\n",
      "asdf\n",
      "asdf\n",
      "asdf\n",
      "asdf\n",
      "asdf\n",
      "asdf\n",
      "asdf\n",
      "asdf\n",
      "asdf\n",
      "asdf\n",
      "asdf\n",
      "asdf\n",
      "asdf\n",
      "asdf\n",
      "asdf\n",
      "asdf\n",
      "asdf\n",
      "asdf\n",
      "asdf\n",
      "asdf\n",
      "asdf\n",
      "asdf\n"
     ]
    }
   ],
   "source": [
    "d = feedparser.parse(\"http://blog.haezoom.com/rss\")\n",
    "for entry in d.entries:\n",
    "    print('asdf')"
   ]
  }
 ],
 "metadata": {
  "kernelspec": {
   "display_name": "Python 2",
   "language": "python",
   "name": "python2"
  },
  "language_info": {
   "codemirror_mode": {
    "name": "ipython",
    "version": 2
   },
   "file_extension": ".py",
   "mimetype": "text/x-python",
   "name": "python",
   "nbconvert_exporter": "python",
   "pygments_lexer": "ipython2",
   "version": "2.7.13"
  }
 },
 "nbformat": 4,
 "nbformat_minor": 2
}
