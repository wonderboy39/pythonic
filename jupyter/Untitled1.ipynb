{
 "cells": [
  {
   "cell_type": "markdown",
   "metadata": {},
   "source": [
    "**map,filter,lambda 테스트**"
   ]
  },
  {
   "cell_type": "code",
   "execution_count": 1,
   "metadata": {
    "collapsed": true
   },
   "outputs": [],
   "source": [
    "import re"
   ]
  },
  {
   "cell_type": "code",
   "execution_count": 2,
   "metadata": {
    "collapsed": true
   },
   "outputs": [],
   "source": [
    "l = [u'FIT 발전소', u'RPS 기존 발전소', u'RPS 분양 발전소']\n",
    "str_list = u'FIT 발전소, RPS 기존 발전소, RPS 분양 발전소'"
   ]
  },
  {
   "cell_type": "code",
   "execution_count": 3,
   "metadata": {
    "collapsed": true
   },
   "outputs": [],
   "source": [
    "def trim_space(x):\n",
    "    return re.sub('\\s',u'',x)"
   ]
  },
  {
   "cell_type": "code",
   "execution_count": 8,
   "metadata": {},
   "outputs": [],
   "source": [
    "filtered_list = filter(lambda x: re.sub('\\s',u'',x) , l)\n",
    "splited_list = filter(lambda x: re.sub('\\s','u',x), str_list.split(','))\n",
    "\n",
    "map_list = map(trim_space, str_list.split(','))\n",
    "lambda_map_list = map(lambda x: re.sub('\\s','',x), str_list.split(','))"
   ]
  },
  {
   "cell_type": "code",
   "execution_count": 9,
   "metadata": {},
   "outputs": [
    {
     "name": "stdout",
     "output_type": "stream",
     "text": [
      "FIT발전소\n",
      "RPS기존발전소\n",
      "RPS분양발전소\n"
     ]
    }
   ],
   "source": [
    "for l in lambda_map_list:\n",
    "    print l.encode('utf-8')"
   ]
  },
  {
   "cell_type": "code",
   "execution_count": 6,
   "metadata": {},
   "outputs": [
    {
     "name": "stdout",
     "output_type": "stream",
     "text": [
      "FIT 발전소\n",
      " RPS 기존 발전소\n",
      " RPS 분양 발전소\n"
     ]
    }
   ],
   "source": [
    "for s in splited_list:\n",
    "    print s.encode('utf-8')"
   ]
  },
  {
   "cell_type": "code",
   "execution_count": 7,
   "metadata": {},
   "outputs": [
    {
     "name": "stdout",
     "output_type": "stream",
     "text": [
      "FIT발전소\n",
      "RPS기존발전소\n",
      "RPS분양발전소\n"
     ]
    }
   ],
   "source": [
    "for m in map_list:\n",
    "    print m.encode('utf-8')"
   ]
  },
  {
   "cell_type": "code",
   "execution_count": null,
   "metadata": {},
   "outputs": [],
   "source": [
    "for f in filtered_list:\n",
    "    print f.encode('utf-8')"
   ]
  }
 ],
 "metadata": {
  "kernelspec": {
   "display_name": "Python 2",
   "language": "python",
   "name": "python2"
  },
  "language_info": {
   "codemirror_mode": {
    "name": "ipython",
    "version": 2
   },
   "file_extension": ".py",
   "mimetype": "text/x-python",
   "name": "python",
   "nbconvert_exporter": "python",
   "pygments_lexer": "ipython2",
   "version": "2.7.13"
  }
 },
 "nbformat": 4,
 "nbformat_minor": 2
}
