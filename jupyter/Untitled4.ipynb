{
 "cells": [
  {
   "cell_type": "markdown",
   "metadata": {},
   "source": [
    "**TEST filter... 전에 한번 정리했었는데? 어디있더라? 하다가 정리**"
   ]
  },
  {
   "cell_type": "code",
   "execution_count": 8,
   "metadata": {
    "collapsed": true
   },
   "outputs": [],
   "source": [
    "def strip_data(x):\n",
    "    if u' 이하' in x:\n",
    "#         filter(x.replace(u' 이하', u'이하'))\n",
    "        x = x.replace(u' 이하', u'이하')\n",
    "        print(x.encode('utf-8'))\n",
    "    elif u' 초과' in x:\n",
    "        x = x.replace(u' 초과', u'초과')\n",
    "        print(x.encode('utf-8'))"
   ]
  },
  {
   "cell_type": "code",
   "execution_count": 2,
   "metadata": {
    "collapsed": true
   },
   "outputs": [],
   "source": [
    "l_input = [u'100kW 이하', u'100kW ~ 500kW이하', u'500kW ~ 1000kW이하', u'1000kW 초과']"
   ]
  },
  {
   "cell_type": "code",
   "execution_count": 12,
   "metadata": {},
   "outputs": [
    {
     "name": "stdout",
     "output_type": "stream",
     "text": [
      "100kW이하\n",
      "1000kW초과\n"
     ]
    }
   ],
   "source": [
    "l_filtered = filter(strip_data, l_input)"
   ]
  },
  {
   "cell_type": "code",
   "execution_count": 13,
   "metadata": {},
   "outputs": [
    {
     "name": "stdout",
     "output_type": "stream",
     "text": [
      "100kW 이하\n",
      "100kW ~ 500kW이하\n",
      "500kW ~ 1000kW이하\n",
      "1000kW 초과\n"
     ]
    }
   ],
   "source": [
    "for l in l_input:\n",
    "    print l.encode('utf-8')\n",
    "\n",
    "# def replacing(x):\n",
    "#     x.replace(u'이하')\n",
    "    \n",
    "# filter(replace(u' 이하', u'이하'), l_input)"
   ]
  }
 ],
 "metadata": {
  "kernelspec": {
   "display_name": "Python 2",
   "language": "python",
   "name": "python2"
  },
  "language_info": {
   "codemirror_mode": {
    "name": "ipython",
    "version": 2
   },
   "file_extension": ".py",
   "mimetype": "text/x-python",
   "name": "python",
   "nbconvert_exporter": "python",
   "pygments_lexer": "ipython2",
   "version": "2.7.13"
  }
 },
 "nbformat": 4,
 "nbformat_minor": 2
}
