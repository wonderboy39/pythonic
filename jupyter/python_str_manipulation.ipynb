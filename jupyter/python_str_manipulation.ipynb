{
 "cells": [
  {
   "cell_type": "markdown",
   "metadata": {},
   "source": [
    "just note - 다른방식으로 고칠것"
   ]
  },
  {
   "cell_type": "code",
   "execution_count": 1,
   "metadata": {
    "collapsed": true
   },
   "outputs": [],
   "source": [
    "capacites = ('100', '500', '1000', 'MW')"
   ]
  },
  {
   "cell_type": "code",
   "execution_count": 2,
   "metadata": {
    "collapsed": true
   },
   "outputs": [],
   "source": [
    "values = {\n",
    "    '100': '100asdfasdf',\n",
    "    '500': '100~500',\n",
    "    'MW': '1000~'\n",
    "}"
   ]
  },
  {
   "cell_type": "code",
   "execution_count": 3,
   "metadata": {},
   "outputs": [
    {
     "name": "stdout",
     "output_type": "stream",
     "text": [
      "yes!\n"
     ]
    }
   ],
   "source": [
    "# if capacites in values[]\n",
    "if '100' in values:\n",
    "    print('yes!')"
   ]
  },
  {
   "cell_type": "code",
   "execution_count": 4,
   "metadata": {
    "collapsed": true
   },
   "outputs": [],
   "source": [
    "if capacites in values:\n",
    "    print('yes!')"
   ]
  },
  {
   "cell_type": "code",
   "execution_count": 7,
   "metadata": {},
   "outputs": [
    {
     "name": "stdout",
     "output_type": "stream",
     "text": [
      "100\n",
      "500\n",
      "1000\n",
      "MW\n"
     ]
    }
   ],
   "source": [
    "for c in capacites:\n",
    "    print c"
   ]
  },
  {
   "cell_type": "code",
   "execution_count": 18,
   "metadata": {},
   "outputs": [
    {
     "name": "stdout",
     "output_type": "stream",
     "text": [
      "yes!! the value is 100\n",
      "yes!! the value is 500\n",
      "yes!! the value is MW\n",
      "==================\n",
      "100\n",
      "500\n",
      "MW\n",
      "\n",
      "==================\n",
      "100,500,MW\n"
     ]
    }
   ],
   "source": [
    "expected_capacity = []\n",
    "for c in capacites:\n",
    "    if c in values:\n",
    "        print \"yes!! the value is {}\".format(c)\n",
    "        expected_capacity.append(c)\n",
    "        \n",
    "print \"==================\"\n",
    "\n",
    "for capacity in expected_capacity:\n",
    "    print capacity\n",
    "print \"\\n==================\"\n",
    "\n",
    "print \",\".join(expected_capacity)"
   ]
  },
  {
   "cell_type": "code",
   "execution_count": 12,
   "metadata": {
    "collapsed": true
   },
   "outputs": [],
   "source": [
    "expected_capacity = "
   ]
  },
  {
   "cell_type": "code",
   "execution_count": 22,
   "metadata": {},
   "outputs": [
    {
     "name": "stdout",
     "output_type": "stream",
     "text": [
      "9.9\n",
      "<type 'float'>\n"
     ]
    }
   ],
   "source": [
    "generated_hour = '9.9'\n",
    "# print(float(generated_hour))\n",
    "f_generated_hour = float(generated_hour)\n",
    "print \"{}\".format(f_generated_hour)\n",
    "print \"{}\".format(str(type(f_generated_hour)))"
   ]
  },
  {
   "cell_type": "code",
   "execution_count": 23,
   "metadata": {},
   "outputs": [
    {
     "data": {
      "text/plain": [
       "['001', '111', '1111']"
      ]
     },
     "execution_count": 23,
     "metadata": {},
     "output_type": "execute_result"
    }
   ],
   "source": [
    "l_phone = '001-111-1111'.split('-')\n",
    "l_phone"
   ]
  },
  {
   "cell_type": "code",
   "execution_count": 26,
   "metadata": {},
   "outputs": [
    {
     "data": {
      "text/plain": [
       "['1111']"
      ]
     },
     "execution_count": 26,
     "metadata": {},
     "output_type": "execute_result"
    }
   ],
   "source": [
    "'001-111-1111'.split('-')[2:]"
   ]
  },
  {
   "cell_type": "code",
   "execution_count": 35,
   "metadata": {},
   "outputs": [
    {
     "data": {
      "text/plain": [
       "'1111jung'"
      ]
     },
     "execution_count": 35,
     "metadata": {},
     "output_type": "execute_result"
    }
   ],
   "source": [
    "ph = '001-111-1111'.split('-')[2]\n",
    "name='jung'\n",
    "ph+name"
   ]
  },
  {
   "cell_type": "code",
   "execution_count": 51,
   "metadata": {
    "collapsed": true
   },
   "outputs": [],
   "source": [
    "dict_capacity = {\n",
    "    u'100': u'100kW 이하',\n",
    "    u'500': u'100kW ~ 500kW 이하',\n",
    "    u'1000': u'500kW ~ 1000kW 이하',\n",
    "    u'MW': u'1000kW초과'\n",
    "}\n",
    "expected_capacity = ['100','1000','MW']"
   ]
  },
  {
   "cell_type": "code",
   "execution_count": 55,
   "metadata": {},
   "outputs": [
    {
     "name": "stdout",
     "output_type": "stream",
     "text": [
      "capacity = 100\n",
      "capacity = 1000\n",
      "capacity = MW\n",
      "100kW 이하,500kW ~ 1000kW 이하,1000kW초과\n",
      "<type 'unicode'>\n"
     ]
    }
   ],
   "source": [
    "selected_capacity =''\n",
    "for capacity in expected_capacity:\n",
    "    print \"capacity = {}\".format(capacity)\n",
    "    selected_capacity = selected_capacity + ',' + dict_capacity[capacity]\n",
    "\n",
    "print selected_capacity[1:]\n",
    "print(str(type(selected_capacity[1:])))\n",
    "    "
   ]
  }
 ],
 "metadata": {
  "kernelspec": {
   "display_name": "Python 2",
   "language": "python",
   "name": "python2"
  },
  "language_info": {
   "codemirror_mode": {
    "name": "ipython",
    "version": 2
   },
   "file_extension": ".py",
   "mimetype": "text/x-python",
   "name": "python",
   "nbconvert_exporter": "python",
   "pygments_lexer": "ipython2",
   "version": "2.7.13"
  }
 },
 "nbformat": 4,
 "nbformat_minor": 2
}
